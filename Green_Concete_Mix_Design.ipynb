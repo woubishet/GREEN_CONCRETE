{
 "cells": [
  {
   "cell_type": "markdown",
   "metadata": {},
   "source": [
    "## <div class=\"alert alert-block alert-info\"><b>Project:</b> Green Concrete Design</div>"
   ]
  },
  {
   "cell_type": "markdown",
   "metadata": {},
   "source": [
    "# About the project"
   ]
  },
  {
   "cell_type": "markdown",
   "metadata": {},
   "source": [
    "\n",
    "**Background:**  Developing economical and ecofriendly concrete mixes that reduce the carbon footprint with as little Portland cement as possible while meeting workability, strength and durability requirements is critical. There are numerous concrete mix design methods available around the world, including those developed by the American Concrete Institute (ACI) and the British Department of Energy (DOE). Some countries have their own standards or nationally recommended methods, while others lack normative agreement. The majority of the standard methods are analytical in nature with experimental components. This means that the analytically calculated proportion of the concrete mix constituents must be validated by trial mixes and the proportions adjusted accordingly until a satisfactory mix is obtained. This iterative process is costly, consuming time and natural resources, as it involves destructive laboratory testing to ensure the required strength is achieved, typically at 28 days of age. In addition, due to the fact that many of the materials used to produce green concrete, including of  supplementary cementitious materials (SCMs), are variable in many ways, and many of their properties cannot be quantified, it is difficult to design optimal sustainable concrete using the traditional approach. So, in order to define the optimal combinations, an intelligent guess based on the predefined relationships must be made at some point. This leads to the practice of overdesigning concrete properties as a precautionary measure for fear of failing to provide the required properties by adding more cement, thereby emitting more $CO_2$ into the environment. Because conventional concrete mix design is a complex approach, it often requires designers to have in-depth knowledge and extensive experience in concrete science. In addition, these experimental-based methods are practical when there is only one parameter to optimize, such as comprehensive strength. In most cases, however, several factors describing various important properties (e.g. workability and durability) must be considered simultaneously. This will result in an exponential increase in the number of concrete samples prepared. All of these constraints necessitate the use of a dependable, quick, simple, and low-cost method that allows engineers to design sustainable concrete with fewer processes. \n",
    "\n",
    "**Aim:** The aim of this project is to develop a data-driven model that is robust, reliable, fast, and cost effective for designing green concrete mixes that reduce the carbon footprint while meeting the desired strength and durability requirements.\n",
    "\n",
    "**Data:** The raw dataset used in this project was originally created to develop data-driven non-steady-state migration coefficients prediction models. The data were collected from i) research projects and ii) internationally published journal articles by accessing the databases Web of Science and Scopus. The dataset contains twenty-three features that describe the mix ingredients as well as the properties of fresh and hardened concrete. \n"
   ]
  },
  {
   "cell_type": "markdown",
   "metadata": {},
   "source": [
    "# Raw Dataset"
   ]
  },
  {
   "cell_type": "markdown",
   "metadata": {},
   "source": [
    "The raw dataset retained information concerning the concrete mix, its fresh and hardened properties. The concrete mix comprises eight features describing the ingredients type and proportion. These are w/b ratio, contents of binders: cement, slag, FA, SF, and lime filler (unit of $kg/m^3$), amount of fine, coarse, and total aggregates (unit of $kg/m^3$), contents of chemical admixtures: plasticizers, superplasticizers, and air-entraining agents (AEA) in ($\\%$ $by$ $binder$ $wt.$). The fresh and hardened properties describe different properties of the concrete specimens. The fresh concrete properties comprise tests of slump and slump flow (unit of $mm$) to describe the workability of the concrete; air content (in $\\%$); as well as fresh and dry density (unit of $kg/m^3$). The hardened concrete property test includes test results of comprehensive strength (unit of $MPa$) and non-steady-state migration coefficients (unit of $x10-12 m^2/s$) performed at different maturity ages. The following Table describes the data in greater detail. "
   ]
  },
  {
   "cell_type": "markdown",
   "metadata": {},
   "source": [
    "Feature category |No.|Feature subcategory |Description |Unit\n",
    "-|-|-|-|-\n",
    "Concrete mix ingredients  |1| Cement types |-|[-]\n",
    "|2|Water content | - | [kg/m3] \n",
    "|3|Cement content  | - | [kg/m3] \n",
    "|4|Mineral admixtures content  | Slag | [kg/m3] \n",
    "|5| | Fly ash  | [kg/m3] \n",
    "|6| | Silica fume | [kg/m3] \n",
    "|7| | Lime filler  | [kg/m3] \n",
    "|8|Water-to-binder ratio | - | [-]\n",
    "|9|Aggregates content | Fine aggregate  | [kg/m3] \n",
    "|10| | Coarse aggregate  | [kg/m3] \n",
    "|11| | Total aggregate | [kg/m3] \n",
    "|12|Chemical admixtures content  | Plasticizer | [% by binder wt.]\n",
    "|13| |Superplasticizer  | [% by binder wt.]\n",
    "|14| | Air-entraining agent  | [% by binder wt.]\n",
    "Fresh concrete properties |15| Basic properties |Slump| [mm]\n",
    "|16| | Spread  |[mm]\n",
    "|17| | Air content | [-]\n",
    "|18| | Fresh density  | [kg/m3] \n",
    "|19| | Dry density | [kg/m3] \n",
    "Hardened concrete properties |20|Mechanical properties |Compressive strength| [MPa]\n",
    "|21| | Concrete age at compressive strength test |[days]\n",
    " |22|Migration properties  |Concrete age at migration test| [days]\n",
    " |23| |Migration coefficient $(D_{nssm})$ | [x10-12 m2/s]"
   ]
  },
  {
   "cell_type": "markdown",
   "metadata": {},
   "source": [
    "# Method"
   ]
  },
  {
   "cell_type": "markdown",
   "metadata": {},
   "source": [
    "In this project, five state-of-the-art decision tree-based ensemble methods: **Bagging**, **Random Forest**, **AdaBoost**, **Gradient Boosting**, and **XGBoost** are used."
   ]
  },
  {
   "cell_type": "code",
   "execution_count": 1,
   "metadata": {},
   "outputs": [],
   "source": [
    "# Import the necessary libraries\n",
    "import pandas as pd\n",
    "import numpy as np\n",
    "import matplotlib.pyplot as plt\n",
    "import seaborn as sns\n",
    "from pandas import concat\n",
    "from numpy import absolute\n",
    "from sklearn.model_selection import cross_val_score\n",
    "from sklearn.model_selection import RepeatedKFold\n",
    "from sklearn.preprocessing import MinMaxScaler\n",
    "from sklearn.preprocessing import LabelEncoder\n",
    "import math\n",
    "import os\n",
    "import scipy as sp\n",
    "from scipy.stats import chi2\n",
    "from sklearn.ensemble import RandomForestRegressor\n",
    "from sklearn.inspection import permutation_importance\n",
    "from sklearn.multioutput import MultiOutputRegressor\n",
    "from xgboost import XGBRegressor \n",
    "from sklearn.ensemble import AdaBoostRegressor\n",
    "from sklearn.tree import DecisionTreeRegressor\n",
    "from sklearn.ensemble import GradientBoostingRegressor\n",
    "from sklearn.ensemble import BaggingRegressor\n",
    "import xgboost as xgb\n",
    "from sklearn.model_selection import train_test_split\n",
    "from sklearn.model_selection import GridSearchCV\n",
    "from sklearn.preprocessing import StandardScaler\n",
    "from datetime import datetime\n",
    "from sklearn.metrics import mean_absolute_error as mae\n",
    "from sklearn.metrics import mean_squared_error as mse\n",
    "from sklearn.metrics import r2_score\n",
    "from math import sqrt"
   ]
  },
  {
   "cell_type": "markdown",
   "metadata": {},
   "source": [
    "# Retrive the data"
   ]
  },
  {
   "cell_type": "code",
   "execution_count": 2,
   "metadata": {},
   "outputs": [
    {
     "data": {
      "text/html": [
       "<div>\n",
       "<style scoped>\n",
       "    .dataframe tbody tr th:only-of-type {\n",
       "        vertical-align: middle;\n",
       "    }\n",
       "\n",
       "    .dataframe tbody tr th {\n",
       "        vertical-align: top;\n",
       "    }\n",
       "\n",
       "    .dataframe thead th {\n",
       "        text-align: right;\n",
       "    }\n",
       "</style>\n",
       "<table border=\"1\" class=\"dataframe\">\n",
       "  <thead>\n",
       "    <tr style=\"text-align: right;\">\n",
       "      <th></th>\n",
       "      <th>w/b</th>\n",
       "      <th>Water</th>\n",
       "      <th>Cement type</th>\n",
       "      <th>Cement</th>\n",
       "      <th>Slag</th>\n",
       "      <th>Fly ash</th>\n",
       "      <th>Silica fume</th>\n",
       "      <th>Lime filler</th>\n",
       "      <th>Fine aggregate</th>\n",
       "      <th>Coarse aggregate</th>\n",
       "      <th>...</th>\n",
       "      <th>Comp. str. test age</th>\n",
       "      <th>Compressive strength</th>\n",
       "      <th>Air content</th>\n",
       "      <th>Spreed</th>\n",
       "      <th>Slump</th>\n",
       "      <th>Fresh density</th>\n",
       "      <th>Dry density</th>\n",
       "      <th>Migration test age</th>\n",
       "      <th>Dnssm</th>\n",
       "      <th>Migration resistance</th>\n",
       "    </tr>\n",
       "  </thead>\n",
       "  <tbody>\n",
       "    <tr>\n",
       "      <th>0</th>\n",
       "      <td>0.45</td>\n",
       "      <td>180.0</td>\n",
       "      <td>NaN</td>\n",
       "      <td>400.0</td>\n",
       "      <td>0.0</td>\n",
       "      <td>0.0</td>\n",
       "      <td>0.0</td>\n",
       "      <td>0.0</td>\n",
       "      <td>640.0</td>\n",
       "      <td>960.0</td>\n",
       "      <td>...</td>\n",
       "      <td>126.0</td>\n",
       "      <td>63.22</td>\n",
       "      <td>NaN</td>\n",
       "      <td>NaN</td>\n",
       "      <td>NaN</td>\n",
       "      <td>NaN</td>\n",
       "      <td>NaN</td>\n",
       "      <td>120</td>\n",
       "      <td>2.85</td>\n",
       "      <td>Very high</td>\n",
       "    </tr>\n",
       "    <tr>\n",
       "      <th>1</th>\n",
       "      <td>0.45</td>\n",
       "      <td>180.0</td>\n",
       "      <td>NaN</td>\n",
       "      <td>380.0</td>\n",
       "      <td>0.0</td>\n",
       "      <td>0.0</td>\n",
       "      <td>20.0</td>\n",
       "      <td>0.0</td>\n",
       "      <td>640.0</td>\n",
       "      <td>960.0</td>\n",
       "      <td>...</td>\n",
       "      <td>126.0</td>\n",
       "      <td>63.46</td>\n",
       "      <td>NaN</td>\n",
       "      <td>NaN</td>\n",
       "      <td>NaN</td>\n",
       "      <td>NaN</td>\n",
       "      <td>NaN</td>\n",
       "      <td>120</td>\n",
       "      <td>1.75</td>\n",
       "      <td>Extremely high</td>\n",
       "    </tr>\n",
       "    <tr>\n",
       "      <th>2</th>\n",
       "      <td>0.45</td>\n",
       "      <td>180.0</td>\n",
       "      <td>NaN</td>\n",
       "      <td>360.0</td>\n",
       "      <td>0.0</td>\n",
       "      <td>0.0</td>\n",
       "      <td>40.0</td>\n",
       "      <td>0.0</td>\n",
       "      <td>640.0</td>\n",
       "      <td>960.0</td>\n",
       "      <td>...</td>\n",
       "      <td>126.0</td>\n",
       "      <td>70.88</td>\n",
       "      <td>NaN</td>\n",
       "      <td>NaN</td>\n",
       "      <td>NaN</td>\n",
       "      <td>NaN</td>\n",
       "      <td>NaN</td>\n",
       "      <td>120</td>\n",
       "      <td>0.90</td>\n",
       "      <td>Extremely high</td>\n",
       "    </tr>\n",
       "  </tbody>\n",
       "</table>\n",
       "<p>3 rows × 24 columns</p>\n",
       "</div>"
      ],
      "text/plain": [
       "    w/b  Water Cement type  Cement  Slag  Fly ash  Silica fume  Lime filler  \\\n",
       "0  0.45  180.0         NaN   400.0   0.0      0.0          0.0          0.0   \n",
       "1  0.45  180.0         NaN   380.0   0.0      0.0         20.0          0.0   \n",
       "2  0.45  180.0         NaN   360.0   0.0      0.0         40.0          0.0   \n",
       "\n",
       "   Fine aggregate  Coarse aggregate  ...  Comp. str. test age  \\\n",
       "0           640.0             960.0  ...                126.0   \n",
       "1           640.0             960.0  ...                126.0   \n",
       "2           640.0             960.0  ...                126.0   \n",
       "\n",
       "   Compressive strength  Air content  Spreed  Slump  Fresh density  \\\n",
       "0                 63.22          NaN     NaN    NaN            NaN   \n",
       "1                 63.46          NaN     NaN    NaN            NaN   \n",
       "2                 70.88          NaN     NaN    NaN            NaN   \n",
       "\n",
       "   Dry density  Migration test age  Dnssm  Migration resistance  \n",
       "0          NaN                 120   2.85             Very high  \n",
       "1          NaN                 120   1.75        Extremely high  \n",
       "2          NaN                 120   0.90        Extremely high  \n",
       "\n",
       "[3 rows x 24 columns]"
      ]
     },
     "execution_count": 2,
     "metadata": {},
     "output_type": "execute_result"
    }
   ],
   "source": [
    "# Import the raw data\n",
    "df = pd.read_excel('RawData.xlsx')\n",
    "df.head(3)"
   ]
  },
  {
   "cell_type": "markdown",
   "metadata": {},
   "source": [
    "# Data Exploration "
   ]
  },
  {
   "cell_type": "code",
   "execution_count": 3,
   "metadata": {},
   "outputs": [
    {
     "data": {
      "text/plain": [
       "(843, 24)"
      ]
     },
     "execution_count": 3,
     "metadata": {},
     "output_type": "execute_result"
    }
   ],
   "source": [
    "# check the size of the dataframe \n",
    "df.shape"
   ]
  },
  {
   "cell_type": "code",
   "execution_count": 4,
   "metadata": {},
   "outputs": [
    {
     "data": {
      "text/plain": [
       "4818"
      ]
     },
     "execution_count": 4,
     "metadata": {},
     "output_type": "execute_result"
    }
   ],
   "source": [
    "# Check number of nan\n",
    "df.isnull().sum().sum() "
   ]
  },
  {
   "cell_type": "markdown",
   "metadata": {},
   "source": [
    "There are 24 features that represent the proportion of concrete mix ingredients, fresh and hardened properties. Because the goal of this work is to optimize the concrete mix by considering its strength and resistance to chloride penetration, only certain features that describe the concrete mix and the two properties will be considered. "
   ]
  },
  {
   "cell_type": "markdown",
   "metadata": {},
   "source": [
    "# Preprocessing "
   ]
  },
  {
   "cell_type": "code",
   "execution_count": 5,
   "metadata": {},
   "outputs": [
    {
     "data": {
      "text/html": [
       "<div>\n",
       "<style scoped>\n",
       "    .dataframe tbody tr th:only-of-type {\n",
       "        vertical-align: middle;\n",
       "    }\n",
       "\n",
       "    .dataframe tbody tr th {\n",
       "        vertical-align: top;\n",
       "    }\n",
       "\n",
       "    .dataframe thead th {\n",
       "        text-align: right;\n",
       "    }\n",
       "</style>\n",
       "<table border=\"1\" class=\"dataframe\">\n",
       "  <thead>\n",
       "    <tr style=\"text-align: right;\">\n",
       "      <th></th>\n",
       "      <th>w/b</th>\n",
       "      <th>Water</th>\n",
       "      <th>Cement type</th>\n",
       "      <th>Cement</th>\n",
       "      <th>Slag</th>\n",
       "      <th>Fly ash</th>\n",
       "      <th>Silica fume</th>\n",
       "      <th>Lime filler</th>\n",
       "      <th>Total aggregate</th>\n",
       "      <th>Plasticizer</th>\n",
       "      <th>Superplasticizer</th>\n",
       "      <th>Air entraining</th>\n",
       "      <th>Comp. str. test age</th>\n",
       "      <th>Compressive strength</th>\n",
       "      <th>Migration test age</th>\n",
       "      <th>Dnssm</th>\n",
       "    </tr>\n",
       "  </thead>\n",
       "  <tbody>\n",
       "    <tr>\n",
       "      <th>0</th>\n",
       "      <td>0.45</td>\n",
       "      <td>180.0</td>\n",
       "      <td>NaN</td>\n",
       "      <td>400.0</td>\n",
       "      <td>0.0</td>\n",
       "      <td>0.0</td>\n",
       "      <td>0.0</td>\n",
       "      <td>0.0</td>\n",
       "      <td>1600.0</td>\n",
       "      <td>0.0</td>\n",
       "      <td>0.0</td>\n",
       "      <td>0.0</td>\n",
       "      <td>126.0</td>\n",
       "      <td>63.22</td>\n",
       "      <td>120</td>\n",
       "      <td>2.85</td>\n",
       "    </tr>\n",
       "    <tr>\n",
       "      <th>1</th>\n",
       "      <td>0.45</td>\n",
       "      <td>180.0</td>\n",
       "      <td>NaN</td>\n",
       "      <td>380.0</td>\n",
       "      <td>0.0</td>\n",
       "      <td>0.0</td>\n",
       "      <td>20.0</td>\n",
       "      <td>0.0</td>\n",
       "      <td>1600.0</td>\n",
       "      <td>0.0</td>\n",
       "      <td>0.0</td>\n",
       "      <td>0.0</td>\n",
       "      <td>126.0</td>\n",
       "      <td>63.46</td>\n",
       "      <td>120</td>\n",
       "      <td>1.75</td>\n",
       "    </tr>\n",
       "    <tr>\n",
       "      <th>2</th>\n",
       "      <td>0.45</td>\n",
       "      <td>180.0</td>\n",
       "      <td>NaN</td>\n",
       "      <td>360.0</td>\n",
       "      <td>0.0</td>\n",
       "      <td>0.0</td>\n",
       "      <td>40.0</td>\n",
       "      <td>0.0</td>\n",
       "      <td>1600.0</td>\n",
       "      <td>0.0</td>\n",
       "      <td>0.0</td>\n",
       "      <td>0.0</td>\n",
       "      <td>126.0</td>\n",
       "      <td>70.88</td>\n",
       "      <td>120</td>\n",
       "      <td>0.90</td>\n",
       "    </tr>\n",
       "  </tbody>\n",
       "</table>\n",
       "</div>"
      ],
      "text/plain": [
       "    w/b  Water Cement type  Cement  Slag  Fly ash  Silica fume  Lime filler  \\\n",
       "0  0.45  180.0         NaN   400.0   0.0      0.0          0.0          0.0   \n",
       "1  0.45  180.0         NaN   380.0   0.0      0.0         20.0          0.0   \n",
       "2  0.45  180.0         NaN   360.0   0.0      0.0         40.0          0.0   \n",
       "\n",
       "   Total aggregate  Plasticizer  Superplasticizer  Air entraining  \\\n",
       "0           1600.0          0.0               0.0             0.0   \n",
       "1           1600.0          0.0               0.0             0.0   \n",
       "2           1600.0          0.0               0.0             0.0   \n",
       "\n",
       "   Comp. str. test age  Compressive strength  Migration test age  Dnssm  \n",
       "0                126.0                 63.22                 120   2.85  \n",
       "1                126.0                 63.46                 120   1.75  \n",
       "2                126.0                 70.88                 120   0.90  "
      ]
     },
     "execution_count": 5,
     "metadata": {},
     "output_type": "execute_result"
    }
   ],
   "source": [
    "# Remove unnecessary features from the DataFrame\n",
    "df_Mix_Pro = df.drop(columns =['Fine aggregate', 'Coarse aggregate', 'Air content', 'Spreed','Slump',\n",
    "                               'Fresh density','Dry density','Migration resistance'])\n",
    "df_Mix_Pro.head(3)"
   ]
  },
  {
   "cell_type": "markdown",
   "metadata": {},
   "source": [
    "### Handling of missed data"
   ]
  },
  {
   "cell_type": "code",
   "execution_count": 6,
   "metadata": {},
   "outputs": [
    {
     "data": {
      "text/plain": [
       "1517"
      ]
     },
     "execution_count": 6,
     "metadata": {},
     "output_type": "execute_result"
    }
   ],
   "source": [
    "# Check number of nan\n",
    "df_Mix_Pro.isnull().sum().sum() "
   ]
  },
  {
   "cell_type": "code",
   "execution_count": 7,
   "metadata": {},
   "outputs": [
    {
     "data": {
      "text/html": [
       "<div>\n",
       "<style scoped>\n",
       "    .dataframe tbody tr th:only-of-type {\n",
       "        vertical-align: middle;\n",
       "    }\n",
       "\n",
       "    .dataframe tbody tr th {\n",
       "        vertical-align: top;\n",
       "    }\n",
       "\n",
       "    .dataframe thead th {\n",
       "        text-align: right;\n",
       "    }\n",
       "</style>\n",
       "<table border=\"1\" class=\"dataframe\">\n",
       "  <thead>\n",
       "    <tr style=\"text-align: right;\">\n",
       "      <th></th>\n",
       "      <th>w/b</th>\n",
       "      <th>Water</th>\n",
       "      <th>Cement type</th>\n",
       "      <th>Cement</th>\n",
       "      <th>Slag</th>\n",
       "      <th>Fly ash</th>\n",
       "      <th>Silica fume</th>\n",
       "      <th>Lime filler</th>\n",
       "      <th>Total aggregate</th>\n",
       "      <th>Plasticizer</th>\n",
       "      <th>Superplasticizer</th>\n",
       "      <th>Air entraining</th>\n",
       "      <th>Comp. str. test age</th>\n",
       "      <th>Compressive strength</th>\n",
       "      <th>Migration test age</th>\n",
       "      <th>Dnssm</th>\n",
       "    </tr>\n",
       "  </thead>\n",
       "  <tbody>\n",
       "    <tr>\n",
       "      <th>0</th>\n",
       "      <td>0.55</td>\n",
       "      <td>192.5</td>\n",
       "      <td>CEM I</td>\n",
       "      <td>350.0</td>\n",
       "      <td>0.0</td>\n",
       "      <td>0.0</td>\n",
       "      <td>0.0</td>\n",
       "      <td>0.0</td>\n",
       "      <td>1762.237</td>\n",
       "      <td>0.0</td>\n",
       "      <td>0.0</td>\n",
       "      <td>0.0</td>\n",
       "      <td>28.0</td>\n",
       "      <td>47.7</td>\n",
       "      <td>28</td>\n",
       "      <td>17.0</td>\n",
       "    </tr>\n",
       "    <tr>\n",
       "      <th>1</th>\n",
       "      <td>0.55</td>\n",
       "      <td>192.5</td>\n",
       "      <td>CEM II/A-D</td>\n",
       "      <td>329.0</td>\n",
       "      <td>0.0</td>\n",
       "      <td>0.0</td>\n",
       "      <td>21.0</td>\n",
       "      <td>0.0</td>\n",
       "      <td>1754.366</td>\n",
       "      <td>0.0</td>\n",
       "      <td>0.0</td>\n",
       "      <td>0.0</td>\n",
       "      <td>28.0</td>\n",
       "      <td>44.5</td>\n",
       "      <td>28</td>\n",
       "      <td>14.2</td>\n",
       "    </tr>\n",
       "    <tr>\n",
       "      <th>2</th>\n",
       "      <td>0.55</td>\n",
       "      <td>192.5</td>\n",
       "      <td>CEM II/A-V</td>\n",
       "      <td>297.5</td>\n",
       "      <td>0.0</td>\n",
       "      <td>52.5</td>\n",
       "      <td>0.0</td>\n",
       "      <td>0.0</td>\n",
       "      <td>1749.184</td>\n",
       "      <td>0.0</td>\n",
       "      <td>0.0</td>\n",
       "      <td>0.0</td>\n",
       "      <td>28.0</td>\n",
       "      <td>38.6</td>\n",
       "      <td>28</td>\n",
       "      <td>23.3</td>\n",
       "    </tr>\n",
       "  </tbody>\n",
       "</table>\n",
       "</div>"
      ],
      "text/plain": [
       "    w/b  Water Cement type  Cement  Slag  Fly ash  Silica fume  Lime filler  \\\n",
       "0  0.55  192.5       CEM I   350.0   0.0      0.0          0.0          0.0   \n",
       "1  0.55  192.5  CEM II/A-D   329.0   0.0      0.0         21.0          0.0   \n",
       "2  0.55  192.5  CEM II/A-V   297.5   0.0     52.5          0.0          0.0   \n",
       "\n",
       "   Total aggregate  Plasticizer  Superplasticizer  Air entraining  \\\n",
       "0         1762.237          0.0               0.0             0.0   \n",
       "1         1754.366          0.0               0.0             0.0   \n",
       "2         1749.184          0.0               0.0             0.0   \n",
       "\n",
       "   Comp. str. test age  Compressive strength  Migration test age  Dnssm  \n",
       "0                 28.0                  47.7                  28   17.0  \n",
       "1                 28.0                  44.5                  28   14.2  \n",
       "2                 28.0                  38.6                  28   23.3  "
      ]
     },
     "execution_count": 7,
     "metadata": {},
     "output_type": "execute_result"
    }
   ],
   "source": [
    "# Drop all rows with NaN values and reset index after drop\n",
    "df_Mix_Pro = df_Mix_Pro.dropna().reset_index(drop=True)\n",
    "df_Mix_Pro.head(3)"
   ]
  },
  {
   "cell_type": "code",
   "execution_count": 8,
   "metadata": {},
   "outputs": [
    {
     "data": {
      "text/plain": [
       "0"
      ]
     },
     "execution_count": 8,
     "metadata": {},
     "output_type": "execute_result"
    }
   ],
   "source": [
    "# Sanity check\n",
    "df_Mix_Pro.isnull().sum().sum() "
   ]
  },
  {
   "cell_type": "code",
   "execution_count": 9,
   "metadata": {},
   "outputs": [
    {
     "data": {
      "text/plain": [
       "(216, 16)"
      ]
     },
     "execution_count": 9,
     "metadata": {},
     "output_type": "execute_result"
    }
   ],
   "source": [
    "# check the size of a dataframe \"df_all_ing\"\n",
    "df_Mix_Pro.shape"
   ]
  },
  {
   "cell_type": "markdown",
   "metadata": {},
   "source": [
    "Rows that comprise missed observation are removed from the DataFrame and due to this the number of rows dcreased to 216 from 843."
   ]
  },
  {
   "cell_type": "code",
   "execution_count": 10,
   "metadata": {},
   "outputs": [
    {
     "data": {
      "text/html": [
       "<div>\n",
       "<style scoped>\n",
       "    .dataframe tbody tr th:only-of-type {\n",
       "        vertical-align: middle;\n",
       "    }\n",
       "\n",
       "    .dataframe tbody tr th {\n",
       "        vertical-align: top;\n",
       "    }\n",
       "\n",
       "    .dataframe thead th {\n",
       "        text-align: right;\n",
       "    }\n",
       "</style>\n",
       "<table border=\"1\" class=\"dataframe\">\n",
       "  <thead>\n",
       "    <tr style=\"text-align: right;\">\n",
       "      <th></th>\n",
       "      <th>w/b</th>\n",
       "      <th>Water</th>\n",
       "      <th>Cement</th>\n",
       "      <th>Slag</th>\n",
       "      <th>Fly ash</th>\n",
       "      <th>Silica fume</th>\n",
       "      <th>Lime filler</th>\n",
       "      <th>Total aggregate</th>\n",
       "      <th>Plasticizer</th>\n",
       "      <th>Superplasticizer</th>\n",
       "      <th>Air entraining</th>\n",
       "      <th>Comp. str. test age</th>\n",
       "      <th>Compressive strength</th>\n",
       "      <th>Migration test age</th>\n",
       "      <th>Dnssm</th>\n",
       "    </tr>\n",
       "  </thead>\n",
       "  <tbody>\n",
       "    <tr>\n",
       "      <th>count</th>\n",
       "      <td>216.000000</td>\n",
       "      <td>216.000000</td>\n",
       "      <td>216.000000</td>\n",
       "      <td>216.000000</td>\n",
       "      <td>216.000000</td>\n",
       "      <td>216.000000</td>\n",
       "      <td>216.0</td>\n",
       "      <td>216.000000</td>\n",
       "      <td>216.000000</td>\n",
       "      <td>216.000000</td>\n",
       "      <td>216.000000</td>\n",
       "      <td>216.000000</td>\n",
       "      <td>216.000000</td>\n",
       "      <td>216.000000</td>\n",
       "      <td>216.000000</td>\n",
       "    </tr>\n",
       "    <tr>\n",
       "      <th>mean</th>\n",
       "      <td>0.430531</td>\n",
       "      <td>175.737572</td>\n",
       "      <td>367.096457</td>\n",
       "      <td>15.119093</td>\n",
       "      <td>50.805093</td>\n",
       "      <td>7.054630</td>\n",
       "      <td>0.0</td>\n",
       "      <td>1632.872251</td>\n",
       "      <td>0.082575</td>\n",
       "      <td>0.524838</td>\n",
       "      <td>0.251542</td>\n",
       "      <td>45.092593</td>\n",
       "      <td>73.205263</td>\n",
       "      <td>71.384259</td>\n",
       "      <td>8.899850</td>\n",
       "    </tr>\n",
       "    <tr>\n",
       "      <th>std</th>\n",
       "      <td>0.074846</td>\n",
       "      <td>21.464154</td>\n",
       "      <td>83.408550</td>\n",
       "      <td>50.943563</td>\n",
       "      <td>131.066813</td>\n",
       "      <td>34.259318</td>\n",
       "      <td>0.0</td>\n",
       "      <td>257.919114</td>\n",
       "      <td>0.259103</td>\n",
       "      <td>0.450577</td>\n",
       "      <td>0.977331</td>\n",
       "      <td>31.868345</td>\n",
       "      <td>84.757286</td>\n",
       "      <td>79.308614</td>\n",
       "      <td>6.550693</td>\n",
       "    </tr>\n",
       "    <tr>\n",
       "      <th>min</th>\n",
       "      <td>0.300000</td>\n",
       "      <td>122.500000</td>\n",
       "      <td>168.000000</td>\n",
       "      <td>0.000000</td>\n",
       "      <td>0.000000</td>\n",
       "      <td>0.000000</td>\n",
       "      <td>0.0</td>\n",
       "      <td>839.000000</td>\n",
       "      <td>0.000000</td>\n",
       "      <td>0.000000</td>\n",
       "      <td>0.000000</td>\n",
       "      <td>7.000000</td>\n",
       "      <td>18.900000</td>\n",
       "      <td>3.000000</td>\n",
       "      <td>0.744000</td>\n",
       "    </tr>\n",
       "    <tr>\n",
       "      <th>25%</th>\n",
       "      <td>0.360000</td>\n",
       "      <td>158.000000</td>\n",
       "      <td>306.000000</td>\n",
       "      <td>0.000000</td>\n",
       "      <td>0.000000</td>\n",
       "      <td>0.000000</td>\n",
       "      <td>0.0</td>\n",
       "      <td>1474.830000</td>\n",
       "      <td>0.000000</td>\n",
       "      <td>0.000000</td>\n",
       "      <td>0.000000</td>\n",
       "      <td>28.000000</td>\n",
       "      <td>42.000000</td>\n",
       "      <td>28.000000</td>\n",
       "      <td>4.987500</td>\n",
       "    </tr>\n",
       "    <tr>\n",
       "      <th>50%</th>\n",
       "      <td>0.426960</td>\n",
       "      <td>172.800000</td>\n",
       "      <td>350.000000</td>\n",
       "      <td>0.000000</td>\n",
       "      <td>0.000000</td>\n",
       "      <td>0.000000</td>\n",
       "      <td>0.0</td>\n",
       "      <td>1721.500000</td>\n",
       "      <td>0.000000</td>\n",
       "      <td>0.552000</td>\n",
       "      <td>0.000000</td>\n",
       "      <td>28.000000</td>\n",
       "      <td>50.500000</td>\n",
       "      <td>28.000000</td>\n",
       "      <td>7.100000</td>\n",
       "    </tr>\n",
       "    <tr>\n",
       "      <th>75%</th>\n",
       "      <td>0.450000</td>\n",
       "      <td>190.000000</td>\n",
       "      <td>440.000000</td>\n",
       "      <td>0.000000</td>\n",
       "      <td>57.000000</td>\n",
       "      <td>0.000000</td>\n",
       "      <td>0.0</td>\n",
       "      <td>1827.000000</td>\n",
       "      <td>0.000000</td>\n",
       "      <td>0.838500</td>\n",
       "      <td>0.000000</td>\n",
       "      <td>67.500000</td>\n",
       "      <td>61.225000</td>\n",
       "      <td>91.000000</td>\n",
       "      <td>10.570000</td>\n",
       "    </tr>\n",
       "    <tr>\n",
       "      <th>max</th>\n",
       "      <td>0.651786</td>\n",
       "      <td>270.000000</td>\n",
       "      <td>525.000000</td>\n",
       "      <td>312.300000</td>\n",
       "      <td>735.000000</td>\n",
       "      <td>468.500000</td>\n",
       "      <td>0.0</td>\n",
       "      <td>1950.000000</td>\n",
       "      <td>0.894737</td>\n",
       "      <td>2.540000</td>\n",
       "      <td>6.500000</td>\n",
       "      <td>180.000000</td>\n",
       "      <td>483.000000</td>\n",
       "      <td>365.000000</td>\n",
       "      <td>54.000000</td>\n",
       "    </tr>\n",
       "  </tbody>\n",
       "</table>\n",
       "</div>"
      ],
      "text/plain": [
       "              w/b       Water      Cement        Slag     Fly ash  \\\n",
       "count  216.000000  216.000000  216.000000  216.000000  216.000000   \n",
       "mean     0.430531  175.737572  367.096457   15.119093   50.805093   \n",
       "std      0.074846   21.464154   83.408550   50.943563  131.066813   \n",
       "min      0.300000  122.500000  168.000000    0.000000    0.000000   \n",
       "25%      0.360000  158.000000  306.000000    0.000000    0.000000   \n",
       "50%      0.426960  172.800000  350.000000    0.000000    0.000000   \n",
       "75%      0.450000  190.000000  440.000000    0.000000   57.000000   \n",
       "max      0.651786  270.000000  525.000000  312.300000  735.000000   \n",
       "\n",
       "       Silica fume  Lime filler  Total aggregate  Plasticizer  \\\n",
       "count   216.000000        216.0       216.000000   216.000000   \n",
       "mean      7.054630          0.0      1632.872251     0.082575   \n",
       "std      34.259318          0.0       257.919114     0.259103   \n",
       "min       0.000000          0.0       839.000000     0.000000   \n",
       "25%       0.000000          0.0      1474.830000     0.000000   \n",
       "50%       0.000000          0.0      1721.500000     0.000000   \n",
       "75%       0.000000          0.0      1827.000000     0.000000   \n",
       "max     468.500000          0.0      1950.000000     0.894737   \n",
       "\n",
       "       Superplasticizer  Air entraining  Comp. str. test age  \\\n",
       "count        216.000000      216.000000           216.000000   \n",
       "mean           0.524838        0.251542            45.092593   \n",
       "std            0.450577        0.977331            31.868345   \n",
       "min            0.000000        0.000000             7.000000   \n",
       "25%            0.000000        0.000000            28.000000   \n",
       "50%            0.552000        0.000000            28.000000   \n",
       "75%            0.838500        0.000000            67.500000   \n",
       "max            2.540000        6.500000           180.000000   \n",
       "\n",
       "       Compressive strength  Migration test age       Dnssm  \n",
       "count            216.000000          216.000000  216.000000  \n",
       "mean              73.205263           71.384259    8.899850  \n",
       "std               84.757286           79.308614    6.550693  \n",
       "min               18.900000            3.000000    0.744000  \n",
       "25%               42.000000           28.000000    4.987500  \n",
       "50%               50.500000           28.000000    7.100000  \n",
       "75%               61.225000           91.000000   10.570000  \n",
       "max              483.000000          365.000000   54.000000  "
      ]
     },
     "execution_count": 10,
     "metadata": {},
     "output_type": "execute_result"
    }
   ],
   "source": [
    "# computes and displays summary statistics for dataframe \"df_all_ing\"\n",
    "df_Mix_Pro.describe()"
   ]
  },
  {
   "cell_type": "markdown",
   "metadata": {},
   "source": [
    "The concrete ages at which the comprehensive strength and migration coefficients were measured range from 7 to 216 and 3 to 216 days, respectively. Comprehensive strength and migration coefficients taken at the age of 28 days are commonly used as indicators, as 28 days is considered sufficient. "
   ]
  },
  {
   "cell_type": "code",
   "execution_count": 11,
   "metadata": {},
   "outputs": [],
   "source": [
    "# Select comprehensive strength and migration coefficients taken at the age of 28 days\n",
    "df_Mix_Pro = df_Mix_Pro.loc[(df_Mix_Pro ['Comp. str. test age'] == 28) & (df_Mix_Pro['Migration test age'] == 28)]"
   ]
  },
  {
   "cell_type": "markdown",
   "metadata": {},
   "source": [
    "Keeping the features \"Comp. str. test age\" and \"Migration test age\" now has less meaning and shall be removed. "
   ]
  },
  {
   "cell_type": "code",
   "execution_count": 12,
   "metadata": {},
   "outputs": [
    {
     "data": {
      "text/html": [
       "<div>\n",
       "<style scoped>\n",
       "    .dataframe tbody tr th:only-of-type {\n",
       "        vertical-align: middle;\n",
       "    }\n",
       "\n",
       "    .dataframe tbody tr th {\n",
       "        vertical-align: top;\n",
       "    }\n",
       "\n",
       "    .dataframe thead th {\n",
       "        text-align: right;\n",
       "    }\n",
       "</style>\n",
       "<table border=\"1\" class=\"dataframe\">\n",
       "  <thead>\n",
       "    <tr style=\"text-align: right;\">\n",
       "      <th></th>\n",
       "      <th>w/b</th>\n",
       "      <th>Water</th>\n",
       "      <th>Cement type</th>\n",
       "      <th>Cement</th>\n",
       "      <th>Slag</th>\n",
       "      <th>Fly ash</th>\n",
       "      <th>Silica fume</th>\n",
       "      <th>Lime filler</th>\n",
       "      <th>Total aggregate</th>\n",
       "      <th>Plasticizer</th>\n",
       "      <th>Superplasticizer</th>\n",
       "      <th>Air entraining</th>\n",
       "      <th>Compressive strength</th>\n",
       "      <th>Dnssm</th>\n",
       "    </tr>\n",
       "  </thead>\n",
       "  <tbody>\n",
       "    <tr>\n",
       "      <th>0</th>\n",
       "      <td>0.55</td>\n",
       "      <td>192.5</td>\n",
       "      <td>CEM I</td>\n",
       "      <td>350.0</td>\n",
       "      <td>0.0</td>\n",
       "      <td>0.0</td>\n",
       "      <td>0.0</td>\n",
       "      <td>0.0</td>\n",
       "      <td>1762.237</td>\n",
       "      <td>0.0</td>\n",
       "      <td>0.0</td>\n",
       "      <td>0.0</td>\n",
       "      <td>47.7</td>\n",
       "      <td>17.0</td>\n",
       "    </tr>\n",
       "    <tr>\n",
       "      <th>1</th>\n",
       "      <td>0.55</td>\n",
       "      <td>192.5</td>\n",
       "      <td>CEM II/A-D</td>\n",
       "      <td>329.0</td>\n",
       "      <td>0.0</td>\n",
       "      <td>0.0</td>\n",
       "      <td>21.0</td>\n",
       "      <td>0.0</td>\n",
       "      <td>1754.366</td>\n",
       "      <td>0.0</td>\n",
       "      <td>0.0</td>\n",
       "      <td>0.0</td>\n",
       "      <td>44.5</td>\n",
       "      <td>14.2</td>\n",
       "    </tr>\n",
       "  </tbody>\n",
       "</table>\n",
       "</div>"
      ],
      "text/plain": [
       "    w/b  Water Cement type  Cement  Slag  Fly ash  Silica fume  Lime filler  \\\n",
       "0  0.55  192.5       CEM I   350.0   0.0      0.0          0.0          0.0   \n",
       "1  0.55  192.5  CEM II/A-D   329.0   0.0      0.0         21.0          0.0   \n",
       "\n",
       "   Total aggregate  Plasticizer  Superplasticizer  Air entraining  \\\n",
       "0         1762.237          0.0               0.0             0.0   \n",
       "1         1754.366          0.0               0.0             0.0   \n",
       "\n",
       "   Compressive strength  Dnssm  \n",
       "0                  47.7   17.0  \n",
       "1                  44.5   14.2  "
      ]
     },
     "execution_count": 12,
     "metadata": {},
     "output_type": "execute_result"
    }
   ],
   "source": [
    "# Remove the features \"Comp. str. test age\" and \"Migration test age\"\n",
    "df_Mix_Pro = df_Mix_Pro.drop(columns=['Comp. str. test age','Migration test age'])\n",
    "df_Mix_Pro.head(2)"
   ]
  },
  {
   "cell_type": "code",
   "execution_count": 13,
   "metadata": {},
   "outputs": [
    {
     "data": {
      "text/plain": [
       "(90, 14)"
      ]
     },
     "execution_count": 13,
     "metadata": {},
     "output_type": "execute_result"
    }
   ],
   "source": [
    "df_Mix_Pro.shape"
   ]
  },
  {
   "cell_type": "markdown",
   "metadata": {},
   "source": [
    "The total number of rows and columns in the dataframe decreases noticeably. The number of rows is decreased to 90, and the number of columns is decreased to 14. "
   ]
  },
  {
   "cell_type": "markdown",
   "metadata": {},
   "source": [
    "### Data exploration through visualization "
   ]
  },
  {
   "cell_type": "code",
   "execution_count": 14,
   "metadata": {
    "scrolled": true
   },
   "outputs": [
    {
     "data": {
      "image/png": "[encoded data removed]",
      "text/plain": [
       "<Figure size 1152x432 with 2 Axes>"
      ]
     },
     "metadata": {
      "needs_background": "light"
     },
     "output_type": "display_data"
    }
   ],
   "source": [
    "# Plot correlation heatmap\n",
    "plt.figure(figsize=(16, 6))\n",
    "\n",
    "heatmap = sns.heatmap(df_Mix_Pro.corr(), vmin=-1, vmax=1, annot=True)\n",
    "\n",
    "heatmap.set_title('Correlation Heatmap', fontdict={'fontsize':12}, pad=12);"
   ]
  },
  {
   "cell_type": "code",
   "execution_count": 15,
   "metadata": {},
   "outputs": [],
   "source": [
    "# Write the prediction in an Excel sheet to visualize with another tool.\n",
    "df_Mix_Pro.to_excel(\"df_Mix_Pro.Corr.xlsx\",sheet_name='Corr')  "
   ]
  },
  {
   "cell_type": "markdown",
   "metadata": {},
   "source": [
    "The heat map shows that the feature (Lime filler) has only zero values after all NaN are removed from the dataframe.\n",
    "As a result, these feature is irrelevant to the analysis.\n",
    "\n",
    "\n",
    "\n"
   ]
  },
  {
   "cell_type": "code",
   "execution_count": 16,
   "metadata": {},
   "outputs": [
    {
     "data": {
      "text/html": [
       "<div>\n",
       "<style scoped>\n",
       "    .dataframe tbody tr th:only-of-type {\n",
       "        vertical-align: middle;\n",
       "    }\n",
       "\n",
       "    .dataframe tbody tr th {\n",
       "        vertical-align: top;\n",
       "    }\n",
       "\n",
       "    .dataframe thead th {\n",
       "        text-align: right;\n",
       "    }\n",
       "</style>\n",
       "<table border=\"1\" class=\"dataframe\">\n",
       "  <thead>\n",
       "    <tr style=\"text-align: right;\">\n",
       "      <th></th>\n",
       "      <th>w/b</th>\n",
       "      <th>Water</th>\n",
       "      <th>Cement type</th>\n",
       "      <th>Cement</th>\n",
       "      <th>Slag</th>\n",
       "      <th>Fly ash</th>\n",
       "      <th>Silica fume</th>\n",
       "      <th>Total aggregate</th>\n",
       "      <th>Plasticizer</th>\n",
       "      <th>Superplasticizer</th>\n",
       "      <th>Air entraining</th>\n",
       "      <th>Compressive strength</th>\n",
       "      <th>Dnssm</th>\n",
       "    </tr>\n",
       "  </thead>\n",
       "  <tbody>\n",
       "    <tr>\n",
       "      <th>0</th>\n",
       "      <td>0.55</td>\n",
       "      <td>192.5</td>\n",
       "      <td>CEM I</td>\n",
       "      <td>350.0</td>\n",
       "      <td>0.0</td>\n",
       "      <td>0.0</td>\n",
       "      <td>0.0</td>\n",
       "      <td>1762.237</td>\n",
       "      <td>0.0</td>\n",
       "      <td>0.0</td>\n",
       "      <td>0.0</td>\n",
       "      <td>47.7</td>\n",
       "      <td>17.0</td>\n",
       "    </tr>\n",
       "    <tr>\n",
       "      <th>1</th>\n",
       "      <td>0.55</td>\n",
       "      <td>192.5</td>\n",
       "      <td>CEM II/A-D</td>\n",
       "      <td>329.0</td>\n",
       "      <td>0.0</td>\n",
       "      <td>0.0</td>\n",
       "      <td>21.0</td>\n",
       "      <td>1754.366</td>\n",
       "      <td>0.0</td>\n",
       "      <td>0.0</td>\n",
       "      <td>0.0</td>\n",
       "      <td>44.5</td>\n",
       "      <td>14.2</td>\n",
       "    </tr>\n",
       "  </tbody>\n",
       "</table>\n",
       "</div>"
      ],
      "text/plain": [
       "    w/b  Water Cement type  Cement  Slag  Fly ash  Silica fume  \\\n",
       "0  0.55  192.5       CEM I   350.0   0.0      0.0          0.0   \n",
       "1  0.55  192.5  CEM II/A-D   329.0   0.0      0.0         21.0   \n",
       "\n",
       "   Total aggregate  Plasticizer  Superplasticizer  Air entraining  \\\n",
       "0         1762.237          0.0               0.0             0.0   \n",
       "1         1754.366          0.0               0.0             0.0   \n",
       "\n",
       "   Compressive strength  Dnssm  \n",
       "0                  47.7   17.0  \n",
       "1                  44.5   14.2  "
      ]
     },
     "execution_count": 16,
     "metadata": {},
     "output_type": "execute_result"
    }
   ],
   "source": [
    "# Remove the feature \"Lime filler\"\n",
    "df_Mix_Pro = df_Mix_Pro.drop(columns=['Lime filler'])\n",
    "df_Mix_Pro.head(2)"
   ]
  },
  {
   "cell_type": "markdown",
   "metadata": {},
   "source": [
    "### Outlier detection "
   ]
  },
  {
   "cell_type": "markdown",
   "metadata": {},
   "source": [
    "Adoption of the multivariate outlier detection method is essential to identify situations in which two or more features have an uncommon combination of scores. Let's apply Mahalanobis distance to detect outliers."
   ]
  },
  {
   "cell_type": "markdown",
   "metadata": {},
   "source": [
    "Before applying Mahalanobis distance, features with nonnumeric values must be removed from the dataframe."
   ]
  },
  {
   "cell_type": "code",
   "execution_count": 17,
   "metadata": {},
   "outputs": [
    {
     "data": {
      "text/html": [
       "<div>\n",
       "<style scoped>\n",
       "    .dataframe tbody tr th:only-of-type {\n",
       "        vertical-align: middle;\n",
       "    }\n",
       "\n",
       "    .dataframe tbody tr th {\n",
       "        vertical-align: top;\n",
       "    }\n",
       "\n",
       "    .dataframe thead th {\n",
       "        text-align: right;\n",
       "    }\n",
       "</style>\n",
       "<table border=\"1\" class=\"dataframe\">\n",
       "  <thead>\n",
       "    <tr style=\"text-align: right;\">\n",
       "      <th></th>\n",
       "      <th>w/b</th>\n",
       "      <th>Water</th>\n",
       "      <th>Cement</th>\n",
       "      <th>Slag</th>\n",
       "      <th>Fly ash</th>\n",
       "      <th>Silica fume</th>\n",
       "      <th>Total aggregate</th>\n",
       "      <th>Plasticizer</th>\n",
       "      <th>Superplasticizer</th>\n",
       "      <th>Air entraining</th>\n",
       "      <th>Compressive strength</th>\n",
       "      <th>Dnssm</th>\n",
       "    </tr>\n",
       "  </thead>\n",
       "  <tbody>\n",
       "    <tr>\n",
       "      <th>0</th>\n",
       "      <td>0.55</td>\n",
       "      <td>192.5</td>\n",
       "      <td>350.0</td>\n",
       "      <td>0.0</td>\n",
       "      <td>0.0</td>\n",
       "      <td>0.0</td>\n",
       "      <td>1762.237</td>\n",
       "      <td>0.0</td>\n",
       "      <td>0.0</td>\n",
       "      <td>0.0</td>\n",
       "      <td>47.7</td>\n",
       "      <td>17.0</td>\n",
       "    </tr>\n",
       "    <tr>\n",
       "      <th>1</th>\n",
       "      <td>0.55</td>\n",
       "      <td>192.5</td>\n",
       "      <td>329.0</td>\n",
       "      <td>0.0</td>\n",
       "      <td>0.0</td>\n",
       "      <td>21.0</td>\n",
       "      <td>1754.366</td>\n",
       "      <td>0.0</td>\n",
       "      <td>0.0</td>\n",
       "      <td>0.0</td>\n",
       "      <td>44.5</td>\n",
       "      <td>14.2</td>\n",
       "    </tr>\n",
       "  </tbody>\n",
       "</table>\n",
       "</div>"
      ],
      "text/plain": [
       "    w/b  Water  Cement  Slag  Fly ash  Silica fume  Total aggregate  \\\n",
       "0  0.55  192.5   350.0   0.0      0.0          0.0         1762.237   \n",
       "1  0.55  192.5   329.0   0.0      0.0         21.0         1754.366   \n",
       "\n",
       "   Plasticizer  Superplasticizer  Air entraining  Compressive strength  Dnssm  \n",
       "0          0.0               0.0             0.0                  47.7   17.0  \n",
       "1          0.0               0.0             0.0                  44.5   14.2  "
      ]
     },
     "execution_count": 17,
     "metadata": {},
     "output_type": "execute_result"
    }
   ],
   "source": [
    "# Remove feature with nonnumeric values\n",
    "df_Mix_Pro1 = df_Mix_Pro.drop(columns=['Cement type'])\n",
    "df_Mix_Pro1.head(2)"
   ]
  },
  {
   "cell_type": "code",
   "execution_count": 18,
   "metadata": {},
   "outputs": [],
   "source": [
    "#Define a function to calculate Mahalanobis Distance.\n",
    "def mahalanobis(x=None, data=None, cov=None):\n",
    "    \"\"\"Compute the Mahalanobis Distance between each row of x and the data  \n",
    "    x    : vector or matrix of data with, say, p columns.\n",
    "    data : ndarray of the distribution from which Mahalanobis distance of each observation of x is to be computed.\n",
    "    cov  : covariance matrix (p x p) of the distribution. If None, will be computed from data.\n",
    "    \"\"\"\n",
    "    x_minus_mu = x - np.mean(data)\n",
    "    if not cov:\n",
    "        cov = np.cov(data.values.T)\n",
    "    inv_covmat = sp.linalg.inv(cov)\n",
    "    left_term = np.dot(x_minus_mu, inv_covmat)\n",
    "    mahal = np.dot(left_term, x_minus_mu.T)\n",
    "    return mahal.diagonal()"
   ]
  },
  {
   "cell_type": "markdown",
   "metadata": {},
   "source": [
    "Let us compute Mahalanobis distances with \"Compressive strength\" and \"Dnssm\" as target features.\n",
    "\n"
   ]
  },
  {
   "cell_type": "code",
   "execution_count": 19,
   "metadata": {},
   "outputs": [
    {
     "data": {
      "text/html": [
       "<div>\n",
       "<style scoped>\n",
       "    .dataframe tbody tr th:only-of-type {\n",
       "        vertical-align: middle;\n",
       "    }\n",
       "\n",
       "    .dataframe tbody tr th {\n",
       "        vertical-align: top;\n",
       "    }\n",
       "\n",
       "    .dataframe thead th {\n",
       "        text-align: right;\n",
       "    }\n",
       "</style>\n",
       "<table border=\"1\" class=\"dataframe\">\n",
       "  <thead>\n",
       "    <tr style=\"text-align: right;\">\n",
       "      <th></th>\n",
       "      <th>w/b</th>\n",
       "      <th>Water</th>\n",
       "      <th>Cement</th>\n",
       "      <th>Slag</th>\n",
       "      <th>Fly ash</th>\n",
       "      <th>Silica fume</th>\n",
       "      <th>Total aggregate</th>\n",
       "      <th>Plasticizer</th>\n",
       "      <th>Superplasticizer</th>\n",
       "      <th>Air entraining</th>\n",
       "      <th>Compressive strength</th>\n",
       "    </tr>\n",
       "  </thead>\n",
       "  <tbody>\n",
       "    <tr>\n",
       "      <th>0</th>\n",
       "      <td>0.55</td>\n",
       "      <td>192.5</td>\n",
       "      <td>350.0</td>\n",
       "      <td>0.0</td>\n",
       "      <td>0.0</td>\n",
       "      <td>0.0</td>\n",
       "      <td>1762.237</td>\n",
       "      <td>0.0</td>\n",
       "      <td>0.0</td>\n",
       "      <td>0.0</td>\n",
       "      <td>47.7</td>\n",
       "    </tr>\n",
       "    <tr>\n",
       "      <th>1</th>\n",
       "      <td>0.55</td>\n",
       "      <td>192.5</td>\n",
       "      <td>329.0</td>\n",
       "      <td>0.0</td>\n",
       "      <td>0.0</td>\n",
       "      <td>21.0</td>\n",
       "      <td>1754.366</td>\n",
       "      <td>0.0</td>\n",
       "      <td>0.0</td>\n",
       "      <td>0.0</td>\n",
       "      <td>44.5</td>\n",
       "    </tr>\n",
       "  </tbody>\n",
       "</table>\n",
       "</div>"
      ],
      "text/plain": [
       "    w/b  Water  Cement  Slag  Fly ash  Silica fume  Total aggregate  \\\n",
       "0  0.55  192.5   350.0   0.0      0.0          0.0         1762.237   \n",
       "1  0.55  192.5   329.0   0.0      0.0         21.0         1754.366   \n",
       "\n",
       "   Plasticizer  Superplasticizer  Air entraining  Compressive strength  \n",
       "0          0.0               0.0             0.0                  47.7  \n",
       "1          0.0               0.0             0.0                  44.5  "
      ]
     },
     "execution_count": 19,
     "metadata": {},
     "output_type": "execute_result"
    }
   ],
   "source": [
    "# Input features and Compressive strength as a target feature \n",
    "df_Mix_Pro_comp_str = df_Mix_Pro1.drop(columns=['Dnssm'], axis=1)\n",
    "df_Mix_Pro_comp_str.head(2)"
   ]
  },
  {
   "cell_type": "code",
   "execution_count": 20,
   "metadata": {},
   "outputs": [
    {
     "data": {
      "text/html": [
       "<div>\n",
       "<style scoped>\n",
       "    .dataframe tbody tr th:only-of-type {\n",
       "        vertical-align: middle;\n",
       "    }\n",
       "\n",
       "    .dataframe tbody tr th {\n",
       "        vertical-align: top;\n",
       "    }\n",
       "\n",
       "    .dataframe thead th {\n",
       "        text-align: right;\n",
       "    }\n",
       "</style>\n",
       "<table border=\"1\" class=\"dataframe\">\n",
       "  <thead>\n",
       "    <tr style=\"text-align: right;\">\n",
       "      <th></th>\n",
       "      <th>w/b</th>\n",
       "      <th>Water</th>\n",
       "      <th>Cement</th>\n",
       "      <th>Slag</th>\n",
       "      <th>Fly ash</th>\n",
       "      <th>Silica fume</th>\n",
       "      <th>Total aggregate</th>\n",
       "      <th>Plasticizer</th>\n",
       "      <th>Superplasticizer</th>\n",
       "      <th>Air entraining</th>\n",
       "      <th>Dnssm</th>\n",
       "    </tr>\n",
       "  </thead>\n",
       "  <tbody>\n",
       "    <tr>\n",
       "      <th>0</th>\n",
       "      <td>0.55</td>\n",
       "      <td>192.5</td>\n",
       "      <td>350.0</td>\n",
       "      <td>0.0</td>\n",
       "      <td>0.0</td>\n",
       "      <td>0.0</td>\n",
       "      <td>1762.237</td>\n",
       "      <td>0.0</td>\n",
       "      <td>0.0</td>\n",
       "      <td>0.0</td>\n",
       "      <td>17.0</td>\n",
       "    </tr>\n",
       "    <tr>\n",
       "      <th>1</th>\n",
       "      <td>0.55</td>\n",
       "      <td>192.5</td>\n",
       "      <td>329.0</td>\n",
       "      <td>0.0</td>\n",
       "      <td>0.0</td>\n",
       "      <td>21.0</td>\n",
       "      <td>1754.366</td>\n",
       "      <td>0.0</td>\n",
       "      <td>0.0</td>\n",
       "      <td>0.0</td>\n",
       "      <td>14.2</td>\n",
       "    </tr>\n",
       "  </tbody>\n",
       "</table>\n",
       "</div>"
      ],
      "text/plain": [
       "    w/b  Water  Cement  Slag  Fly ash  Silica fume  Total aggregate  \\\n",
       "0  0.55  192.5   350.0   0.0      0.0          0.0         1762.237   \n",
       "1  0.55  192.5   329.0   0.0      0.0         21.0         1754.366   \n",
       "\n",
       "   Plasticizer  Superplasticizer  Air entraining  Dnssm  \n",
       "0          0.0               0.0             0.0   17.0  \n",
       "1          0.0               0.0             0.0   14.2  "
      ]
     },
     "execution_count": 20,
     "metadata": {},
     "output_type": "execute_result"
    }
   ],
   "source": [
    "# Input features and Dnssm as a target feature \n",
    "df_Mix_Pro_Dnssm = df_Mix_Pro1.drop(columns=['Compressive strength'], axis=1)\n",
    "df_Mix_Pro_Dnssm.head(2)"
   ]
  },
  {
   "cell_type": "code",
   "execution_count": 21,
   "metadata": {},
   "outputs": [
    {
     "data": {
      "text/html": [
       "<div>\n",
       "<style scoped>\n",
       "    .dataframe tbody tr th:only-of-type {\n",
       "        vertical-align: middle;\n",
       "    }\n",
       "\n",
       "    .dataframe tbody tr th {\n",
       "        vertical-align: top;\n",
       "    }\n",
       "\n",
       "    .dataframe thead th {\n",
       "        text-align: right;\n",
       "    }\n",
       "</style>\n",
       "<table border=\"1\" class=\"dataframe\">\n",
       "  <thead>\n",
       "    <tr style=\"text-align: right;\">\n",
       "      <th></th>\n",
       "      <th>w/b</th>\n",
       "      <th>Water</th>\n",
       "      <th>Cement</th>\n",
       "      <th>Slag</th>\n",
       "      <th>Fly ash</th>\n",
       "      <th>Silica fume</th>\n",
       "      <th>Total aggregate</th>\n",
       "      <th>Plasticizer</th>\n",
       "      <th>Superplasticizer</th>\n",
       "      <th>Air entraining</th>\n",
       "      <th>Compressive strength</th>\n",
       "      <th>Dnssm</th>\n",
       "      <th>Mahal. Dis. comp. str.</th>\n",
       "      <th>Mahal. Dis. Dnssm</th>\n",
       "      <th>Cement type</th>\n",
       "    </tr>\n",
       "  </thead>\n",
       "  <tbody>\n",
       "    <tr>\n",
       "      <th>0</th>\n",
       "      <td>0.55</td>\n",
       "      <td>192.5</td>\n",
       "      <td>350.0</td>\n",
       "      <td>0.0</td>\n",
       "      <td>0.0</td>\n",
       "      <td>0.0</td>\n",
       "      <td>1762.237</td>\n",
       "      <td>0.0</td>\n",
       "      <td>0.0</td>\n",
       "      <td>0.0</td>\n",
       "      <td>47.7</td>\n",
       "      <td>17.0</td>\n",
       "      <td>5.803145</td>\n",
       "      <td>5.688402</td>\n",
       "      <td>CEM I</td>\n",
       "    </tr>\n",
       "    <tr>\n",
       "      <th>1</th>\n",
       "      <td>0.55</td>\n",
       "      <td>192.5</td>\n",
       "      <td>329.0</td>\n",
       "      <td>0.0</td>\n",
       "      <td>0.0</td>\n",
       "      <td>21.0</td>\n",
       "      <td>1754.366</td>\n",
       "      <td>0.0</td>\n",
       "      <td>0.0</td>\n",
       "      <td>0.0</td>\n",
       "      <td>44.5</td>\n",
       "      <td>14.2</td>\n",
       "      <td>5.082569</td>\n",
       "      <td>6.131835</td>\n",
       "      <td>CEM II/A-D</td>\n",
       "    </tr>\n",
       "  </tbody>\n",
       "</table>\n",
       "</div>"
      ],
      "text/plain": [
       "    w/b  Water  Cement  Slag  Fly ash  Silica fume  Total aggregate  \\\n",
       "0  0.55  192.5   350.0   0.0      0.0          0.0         1762.237   \n",
       "1  0.55  192.5   329.0   0.0      0.0         21.0         1754.366   \n",
       "\n",
       "   Plasticizer  Superplasticizer  Air entraining  Compressive strength  Dnssm  \\\n",
       "0          0.0               0.0             0.0                  47.7   17.0   \n",
       "1          0.0               0.0             0.0                  44.5   14.2   \n",
       "\n",
       "   Mahal. Dis. comp. str.  Mahal. Dis. Dnssm Cement type  \n",
       "0                5.803145           5.688402       CEM I  \n",
       "1                5.082569           6.131835  CEM II/A-D  "
      ]
     },
     "execution_count": 21,
     "metadata": {},
     "output_type": "execute_result"
    }
   ],
   "source": [
    "# Mahalanobis distances considering \"Compressive strength\"  as a traget feature\n",
    "df_Mix_Pro1['Mahal. Dis. comp. str.'] = mahalanobis(x=df_Mix_Pro_comp_str, data=df_Mix_Pro_comp_str)\n",
    "\n",
    "# Mahalanobis distances considering \"Dnssm\"  as a traget feature\n",
    "df_Mix_Pro1['Mahal. Dis. Dnssm'] = mahalanobis(x=df_Mix_Pro_Dnssm, data=df_Mix_Pro_Dnssm)\n",
    "\n",
    "# Replace the feature \"cement type\" in the dataframe\n",
    "df_Mix_Pro1['Cement type']= df_Mix_Pro['Cement type']\n",
    "df_Mix_Pro1.head(2)"
   ]
  },
  {
   "cell_type": "code",
   "execution_count": 22,
   "metadata": {},
   "outputs": [],
   "source": [
    "# write df_all_ing1 into excel to visualize mahalanobis distances with another tool.\n",
    "df_Mix_Pro1.to_excel(\"df_Mix_Pro1_Mahal.xlsx\")  "
   ]
  },
  {
   "cell_type": "markdown",
   "metadata": {},
   "source": [
    "The crucial value at a 0.0001 significance level and 10 degrees of freedom is computed as follows, assuming the test statistic is chi-square distributed with 'n' degrees of freedom. This means that any instance is considered a multivariate outlier if the probability associated with its Mahalanobis distance is 0.0001. "
   ]
  },
  {
   "cell_type": "code",
   "execution_count": 23,
   "metadata": {},
   "outputs": [
    {
     "data": {
      "text/html": [
       "<div>\n",
       "<style scoped>\n",
       "    .dataframe tbody tr th:only-of-type {\n",
       "        vertical-align: middle;\n",
       "    }\n",
       "\n",
       "    .dataframe tbody tr th {\n",
       "        vertical-align: top;\n",
       "    }\n",
       "\n",
       "    .dataframe thead th {\n",
       "        text-align: right;\n",
       "    }\n",
       "</style>\n",
       "<table border=\"1\" class=\"dataframe\">\n",
       "  <thead>\n",
       "    <tr style=\"text-align: right;\">\n",
       "      <th></th>\n",
       "      <th>w/b</th>\n",
       "      <th>Water</th>\n",
       "      <th>Cement</th>\n",
       "      <th>Slag</th>\n",
       "      <th>Fly ash</th>\n",
       "      <th>Silica fume</th>\n",
       "      <th>Total aggregate</th>\n",
       "      <th>Plasticizer</th>\n",
       "      <th>Superplasticizer</th>\n",
       "      <th>Air entraining</th>\n",
       "      <th>Compressive strength</th>\n",
       "      <th>Dnssm</th>\n",
       "      <th>Mahal. Dis. comp. str.</th>\n",
       "      <th>Mahal. Dis. Dnssm</th>\n",
       "      <th>Cement type</th>\n",
       "    </tr>\n",
       "  </thead>\n",
       "  <tbody>\n",
       "    <tr>\n",
       "      <th>24</th>\n",
       "      <td>0.3867</td>\n",
       "      <td>157.0</td>\n",
       "      <td>244.0</td>\n",
       "      <td>0.0</td>\n",
       "      <td>162.0</td>\n",
       "      <td>0.0</td>\n",
       "      <td>1606.00</td>\n",
       "      <td>0.0</td>\n",
       "      <td>1.108374</td>\n",
       "      <td>6.5</td>\n",
       "      <td>43.0</td>\n",
       "      <td>1.58</td>\n",
       "      <td>38.309099</td>\n",
       "      <td>35.960941</td>\n",
       "      <td>CEM I</td>\n",
       "    </tr>\n",
       "    <tr>\n",
       "      <th>101</th>\n",
       "      <td>0.4000</td>\n",
       "      <td>208.3</td>\n",
       "      <td>520.6</td>\n",
       "      <td>312.3</td>\n",
       "      <td>442.5</td>\n",
       "      <td>468.5</td>\n",
       "      <td>1574.10</td>\n",
       "      <td>0.0</td>\n",
       "      <td>0.400000</td>\n",
       "      <td>0.0</td>\n",
       "      <td>60.4</td>\n",
       "      <td>8.56</td>\n",
       "      <td>84.377825</td>\n",
       "      <td>84.808499</td>\n",
       "      <td>CEM I</td>\n",
       "    </tr>\n",
       "    <tr>\n",
       "      <th>102</th>\n",
       "      <td>0.4000</td>\n",
       "      <td>208.3</td>\n",
       "      <td>312.3</td>\n",
       "      <td>208.2</td>\n",
       "      <td>0.0</td>\n",
       "      <td>0.0</td>\n",
       "      <td>1574.10</td>\n",
       "      <td>0.0</td>\n",
       "      <td>0.200000</td>\n",
       "      <td>0.0</td>\n",
       "      <td>51.9</td>\n",
       "      <td>5.13</td>\n",
       "      <td>43.596891</td>\n",
       "      <td>42.612603</td>\n",
       "      <td>CEM I</td>\n",
       "    </tr>\n",
       "    <tr>\n",
       "      <th>136</th>\n",
       "      <td>0.4500</td>\n",
       "      <td>158.0</td>\n",
       "      <td>350.0</td>\n",
       "      <td>0.0</td>\n",
       "      <td>735.0</td>\n",
       "      <td>0.0</td>\n",
       "      <td>1848.53</td>\n",
       "      <td>0.0</td>\n",
       "      <td>0.000000</td>\n",
       "      <td>0.0</td>\n",
       "      <td>65.8</td>\n",
       "      <td>11.50</td>\n",
       "      <td>41.574443</td>\n",
       "      <td>42.252355</td>\n",
       "      <td>CEM I</td>\n",
       "    </tr>\n",
       "    <tr>\n",
       "      <th>141</th>\n",
       "      <td>0.3500</td>\n",
       "      <td>158.0</td>\n",
       "      <td>450.0</td>\n",
       "      <td>0.0</td>\n",
       "      <td>732.0</td>\n",
       "      <td>0.0</td>\n",
       "      <td>1761.53</td>\n",
       "      <td>0.0</td>\n",
       "      <td>0.266497</td>\n",
       "      <td>0.0</td>\n",
       "      <td>76.2</td>\n",
       "      <td>5.70</td>\n",
       "      <td>42.138107</td>\n",
       "      <td>42.047872</td>\n",
       "      <td>CEM I</td>\n",
       "    </tr>\n",
       "  </tbody>\n",
       "</table>\n",
       "</div>"
      ],
      "text/plain": [
       "        w/b  Water  Cement   Slag  Fly ash  Silica fume  Total aggregate  \\\n",
       "24   0.3867  157.0   244.0    0.0    162.0          0.0          1606.00   \n",
       "101  0.4000  208.3   520.6  312.3    442.5        468.5          1574.10   \n",
       "102  0.4000  208.3   312.3  208.2      0.0          0.0          1574.10   \n",
       "136  0.4500  158.0   350.0    0.0    735.0          0.0          1848.53   \n",
       "141  0.3500  158.0   450.0    0.0    732.0          0.0          1761.53   \n",
       "\n",
       "     Plasticizer  Superplasticizer  Air entraining  Compressive strength  \\\n",
       "24           0.0          1.108374             6.5                  43.0   \n",
       "101          0.0          0.400000             0.0                  60.4   \n",
       "102          0.0          0.200000             0.0                  51.9   \n",
       "136          0.0          0.000000             0.0                  65.8   \n",
       "141          0.0          0.266497             0.0                  76.2   \n",
       "\n",
       "     Dnssm  Mahal. Dis. comp. str.  Mahal. Dis. Dnssm Cement type  \n",
       "24    1.58               38.309099          35.960941       CEM I  \n",
       "101   8.56               84.377825          84.808499       CEM I  \n",
       "102   5.13               43.596891          42.612603       CEM I  \n",
       "136  11.50               41.574443          42.252355       CEM I  \n",
       "141   5.70               42.138107          42.047872       CEM I  "
      ]
     },
     "execution_count": 23,
     "metadata": {},
     "output_type": "execute_result"
    }
   ],
   "source": [
    "# Select outlier instances (the  probability associated with  Mahalanobis distance of Compressive strength is 0.0001) \n",
    "df_Mix_Pro1[df_Mix_Pro1['Mahal. Dis. comp. str.'] > chi2.ppf((1-0.0001), df=10)]"
   ]
  },
  {
   "cell_type": "code",
   "execution_count": 24,
   "metadata": {},
   "outputs": [
    {
     "data": {
      "text/html": [
       "<div>\n",
       "<style scoped>\n",
       "    .dataframe tbody tr th:only-of-type {\n",
       "        vertical-align: middle;\n",
       "    }\n",
       "\n",
       "    .dataframe tbody tr th {\n",
       "        vertical-align: top;\n",
       "    }\n",
       "\n",
       "    .dataframe thead th {\n",
       "        text-align: right;\n",
       "    }\n",
       "</style>\n",
       "<table border=\"1\" class=\"dataframe\">\n",
       "  <thead>\n",
       "    <tr style=\"text-align: right;\">\n",
       "      <th></th>\n",
       "      <th>w/b</th>\n",
       "      <th>Water</th>\n",
       "      <th>Cement</th>\n",
       "      <th>Slag</th>\n",
       "      <th>Fly ash</th>\n",
       "      <th>Silica fume</th>\n",
       "      <th>Total aggregate</th>\n",
       "      <th>Plasticizer</th>\n",
       "      <th>Superplasticizer</th>\n",
       "      <th>Air entraining</th>\n",
       "      <th>Compressive strength</th>\n",
       "      <th>Dnssm</th>\n",
       "      <th>Mahal. Dis. comp. str.</th>\n",
       "      <th>Mahal. Dis. Dnssm</th>\n",
       "      <th>Cement type</th>\n",
       "    </tr>\n",
       "  </thead>\n",
       "  <tbody>\n",
       "    <tr>\n",
       "      <th>24</th>\n",
       "      <td>0.3867</td>\n",
       "      <td>157.0</td>\n",
       "      <td>244.0</td>\n",
       "      <td>0.0</td>\n",
       "      <td>162.0</td>\n",
       "      <td>0.0</td>\n",
       "      <td>1606.00</td>\n",
       "      <td>0.0</td>\n",
       "      <td>1.108374</td>\n",
       "      <td>6.5</td>\n",
       "      <td>43.0</td>\n",
       "      <td>1.58</td>\n",
       "      <td>38.309099</td>\n",
       "      <td>35.960941</td>\n",
       "      <td>CEM I</td>\n",
       "    </tr>\n",
       "    <tr>\n",
       "      <th>101</th>\n",
       "      <td>0.4000</td>\n",
       "      <td>208.3</td>\n",
       "      <td>520.6</td>\n",
       "      <td>312.3</td>\n",
       "      <td>442.5</td>\n",
       "      <td>468.5</td>\n",
       "      <td>1574.10</td>\n",
       "      <td>0.0</td>\n",
       "      <td>0.400000</td>\n",
       "      <td>0.0</td>\n",
       "      <td>60.4</td>\n",
       "      <td>8.56</td>\n",
       "      <td>84.377825</td>\n",
       "      <td>84.808499</td>\n",
       "      <td>CEM I</td>\n",
       "    </tr>\n",
       "    <tr>\n",
       "      <th>102</th>\n",
       "      <td>0.4000</td>\n",
       "      <td>208.3</td>\n",
       "      <td>312.3</td>\n",
       "      <td>208.2</td>\n",
       "      <td>0.0</td>\n",
       "      <td>0.0</td>\n",
       "      <td>1574.10</td>\n",
       "      <td>0.0</td>\n",
       "      <td>0.200000</td>\n",
       "      <td>0.0</td>\n",
       "      <td>51.9</td>\n",
       "      <td>5.13</td>\n",
       "      <td>43.596891</td>\n",
       "      <td>42.612603</td>\n",
       "      <td>CEM I</td>\n",
       "    </tr>\n",
       "    <tr>\n",
       "      <th>136</th>\n",
       "      <td>0.4500</td>\n",
       "      <td>158.0</td>\n",
       "      <td>350.0</td>\n",
       "      <td>0.0</td>\n",
       "      <td>735.0</td>\n",
       "      <td>0.0</td>\n",
       "      <td>1848.53</td>\n",
       "      <td>0.0</td>\n",
       "      <td>0.000000</td>\n",
       "      <td>0.0</td>\n",
       "      <td>65.8</td>\n",
       "      <td>11.50</td>\n",
       "      <td>41.574443</td>\n",
       "      <td>42.252355</td>\n",
       "      <td>CEM I</td>\n",
       "    </tr>\n",
       "    <tr>\n",
       "      <th>141</th>\n",
       "      <td>0.3500</td>\n",
       "      <td>158.0</td>\n",
       "      <td>450.0</td>\n",
       "      <td>0.0</td>\n",
       "      <td>732.0</td>\n",
       "      <td>0.0</td>\n",
       "      <td>1761.53</td>\n",
       "      <td>0.0</td>\n",
       "      <td>0.266497</td>\n",
       "      <td>0.0</td>\n",
       "      <td>76.2</td>\n",
       "      <td>5.70</td>\n",
       "      <td>42.138107</td>\n",
       "      <td>42.047872</td>\n",
       "      <td>CEM I</td>\n",
       "    </tr>\n",
       "  </tbody>\n",
       "</table>\n",
       "</div>"
      ],
      "text/plain": [
       "        w/b  Water  Cement   Slag  Fly ash  Silica fume  Total aggregate  \\\n",
       "24   0.3867  157.0   244.0    0.0    162.0          0.0          1606.00   \n",
       "101  0.4000  208.3   520.6  312.3    442.5        468.5          1574.10   \n",
       "102  0.4000  208.3   312.3  208.2      0.0          0.0          1574.10   \n",
       "136  0.4500  158.0   350.0    0.0    735.0          0.0          1848.53   \n",
       "141  0.3500  158.0   450.0    0.0    732.0          0.0          1761.53   \n",
       "\n",
       "     Plasticizer  Superplasticizer  Air entraining  Compressive strength  \\\n",
       "24           0.0          1.108374             6.5                  43.0   \n",
       "101          0.0          0.400000             0.0                  60.4   \n",
       "102          0.0          0.200000             0.0                  51.9   \n",
       "136          0.0          0.000000             0.0                  65.8   \n",
       "141          0.0          0.266497             0.0                  76.2   \n",
       "\n",
       "     Dnssm  Mahal. Dis. comp. str.  Mahal. Dis. Dnssm Cement type  \n",
       "24    1.58               38.309099          35.960941       CEM I  \n",
       "101   8.56               84.377825          84.808499       CEM I  \n",
       "102   5.13               43.596891          42.612603       CEM I  \n",
       "136  11.50               41.574443          42.252355       CEM I  \n",
       "141   5.70               42.138107          42.047872       CEM I  "
      ]
     },
     "execution_count": 24,
     "metadata": {},
     "output_type": "execute_result"
    }
   ],
   "source": [
    "# Select outlier instances (the  probability associated with  Mahalanobis distance of Dnssm is 0.0001) \n",
    "\n",
    "df_Mix_Pro1[df_Mix_Pro1['Mahal. Dis. Dnssm'] > chi2.ppf((1-0.0001), df=10)]"
   ]
  },
  {
   "cell_type": "markdown",
   "metadata": {},
   "source": [
    "It can be noticed that five instances are observed as an outliers from the computed  Mahalanobis distances. These instances shall be removed from the dataframe. "
   ]
  },
  {
   "cell_type": "code",
   "execution_count": 25,
   "metadata": {},
   "outputs": [
    {
     "data": {
      "text/html": [
       "<div>\n",
       "<style scoped>\n",
       "    .dataframe tbody tr th:only-of-type {\n",
       "        vertical-align: middle;\n",
       "    }\n",
       "\n",
       "    .dataframe tbody tr th {\n",
       "        vertical-align: top;\n",
       "    }\n",
       "\n",
       "    .dataframe thead th {\n",
       "        text-align: right;\n",
       "    }\n",
       "</style>\n",
       "<table border=\"1\" class=\"dataframe\">\n",
       "  <thead>\n",
       "    <tr style=\"text-align: right;\">\n",
       "      <th></th>\n",
       "      <th>w/b</th>\n",
       "      <th>Water</th>\n",
       "      <th>Cement</th>\n",
       "      <th>Slag</th>\n",
       "      <th>Fly ash</th>\n",
       "      <th>Silica fume</th>\n",
       "      <th>Total aggregate</th>\n",
       "      <th>Plasticizer</th>\n",
       "      <th>Superplasticizer</th>\n",
       "      <th>Air entraining</th>\n",
       "      <th>Compressive strength</th>\n",
       "      <th>Dnssm</th>\n",
       "      <th>Cement type</th>\n",
       "    </tr>\n",
       "  </thead>\n",
       "  <tbody>\n",
       "    <tr>\n",
       "      <th>0</th>\n",
       "      <td>0.55</td>\n",
       "      <td>192.5</td>\n",
       "      <td>350.0</td>\n",
       "      <td>0.0</td>\n",
       "      <td>0.0</td>\n",
       "      <td>0.0</td>\n",
       "      <td>1762.237</td>\n",
       "      <td>0.0</td>\n",
       "      <td>0.0</td>\n",
       "      <td>0.0</td>\n",
       "      <td>47.7</td>\n",
       "      <td>17.0</td>\n",
       "      <td>CEM I</td>\n",
       "    </tr>\n",
       "    <tr>\n",
       "      <th>1</th>\n",
       "      <td>0.55</td>\n",
       "      <td>192.5</td>\n",
       "      <td>329.0</td>\n",
       "      <td>0.0</td>\n",
       "      <td>0.0</td>\n",
       "      <td>21.0</td>\n",
       "      <td>1754.366</td>\n",
       "      <td>0.0</td>\n",
       "      <td>0.0</td>\n",
       "      <td>0.0</td>\n",
       "      <td>44.5</td>\n",
       "      <td>14.2</td>\n",
       "      <td>CEM II/A-D</td>\n",
       "    </tr>\n",
       "  </tbody>\n",
       "</table>\n",
       "</div>"
      ],
      "text/plain": [
       "    w/b  Water  Cement  Slag  Fly ash  Silica fume  Total aggregate  \\\n",
       "0  0.55  192.5   350.0   0.0      0.0          0.0         1762.237   \n",
       "1  0.55  192.5   329.0   0.0      0.0         21.0         1754.366   \n",
       "\n",
       "   Plasticizer  Superplasticizer  Air entraining  Compressive strength  Dnssm  \\\n",
       "0          0.0               0.0             0.0                  47.7   17.0   \n",
       "1          0.0               0.0             0.0                  44.5   14.2   \n",
       "\n",
       "  Cement type  \n",
       "0       CEM I  \n",
       "1  CEM II/A-D  "
      ]
     },
     "execution_count": 25,
     "metadata": {},
     "output_type": "execute_result"
    }
   ],
   "source": [
    "# Remove the outliers \n",
    "df_Mix_Pro_out = df_Mix_Pro1.drop(index=[24,101,102,136,141])\n",
    "\n",
    "# Remove the Mahalanobis distances from the dataframe\n",
    "df_Mix_Pro_out = df_Mix_Pro_out.drop(columns=['Mahal. Dis. comp. str.','Mahal. Dis. Dnssm'])\n",
    "\n",
    "df_Mix_Pro_out.head(2)"
   ]
  },
  {
   "cell_type": "code",
   "execution_count": 26,
   "metadata": {},
   "outputs": [
    {
     "data": {
      "text/plain": [
       "(85, 13)"
      ]
     },
     "execution_count": 26,
     "metadata": {},
     "output_type": "execute_result"
    }
   ],
   "source": [
    "df_Mix_Pro_out.shape"
   ]
  },
  {
   "cell_type": "code",
   "execution_count": 27,
   "metadata": {},
   "outputs": [
    {
     "data": {
      "text/plain": [
       "w/b                     float64\n",
       "Water                   float64\n",
       "Cement                  float64\n",
       "Slag                    float64\n",
       "Fly ash                 float64\n",
       "Silica fume             float64\n",
       "Total aggregate         float64\n",
       "Plasticizer             float64\n",
       "Superplasticizer        float64\n",
       "Air entraining          float64\n",
       "Compressive strength    float64\n",
       "Dnssm                   float64\n",
       "Cement type              object\n",
       "dtype: object"
      ]
     },
     "execution_count": 27,
     "metadata": {},
     "output_type": "execute_result"
    }
   ],
   "source": [
    "# Examine  the data types of all features considered in the dataframe\n",
    "df_Mix_Pro_out.dtypes"
   ]
  },
  {
   "cell_type": "markdown",
   "metadata": {},
   "source": [
    "It can be noticed that the data types of all the features are float except for the feature cement type. The data type of this feature shall be converted from object to category for encoding.\n"
   ]
  },
  {
   "cell_type": "markdown",
   "metadata": {},
   "source": [
    "Let's examine all types of unique values in the Cem_type column in the original (raw) and preprocessed datasets."
   ]
  },
  {
   "cell_type": "code",
   "execution_count": 28,
   "metadata": {},
   "outputs": [
    {
     "data": {
      "text/plain": [
       "array([nan, 'CEM I', 'CEM II/A-D', 'CEM II/A-V', 'CEM II/B-V',\n",
       "       'CEM II/A-L', 'CEM II/B-L', 'CEM II/B-S', 'CEM II/A-M',\n",
       "       'CEM II/A-LL', 'CEM II/B-M', 'CEM III/A', 'CEM IV/A', 'CEM IV/B',\n",
       "       'CEM II/A-S', 'CEM III/B'], dtype=object)"
      ]
     },
     "execution_count": 28,
     "metadata": {},
     "output_type": "execute_result"
    }
   ],
   "source": [
    "df['Cement type'].unique()"
   ]
  },
  {
   "cell_type": "code",
   "execution_count": 29,
   "metadata": {},
   "outputs": [
    {
     "data": {
      "text/plain": [
       "array(['CEM I', 'CEM II/A-D', 'CEM II/A-V', 'CEM II/B-V', 'CEM III/A',\n",
       "       'CEM II/B-S', 'CEM IV/A'], dtype=object)"
      ]
     },
     "execution_count": 29,
     "metadata": {},
     "output_type": "execute_result"
    }
   ],
   "source": [
    "df_Mix_Pro_out['Cement type'].unique()"
   ]
  },
  {
   "cell_type": "code",
   "execution_count": 30,
   "metadata": {},
   "outputs": [
    {
     "data": {
      "text/plain": [
       "Text(0, 0.5, 'Counts')"
      ]
     },
     "execution_count": 30,
     "metadata": {},
     "output_type": "execute_result"
    },
    {
     "data": {
      "image/png": "[encoded data removed]",
      "text/plain": [
       "<Figure size 432x288 with 1 Axes>"
      ]
     },
     "metadata": {
      "needs_background": "light"
     },
     "output_type": "display_data"
    }
   ],
   "source": [
    "# Visualize the distribution of the lables\n",
    "color = ['blue']\n",
    "df_Mix_Pro_out['Cement type'].value_counts().plot(kind='bar', color = color);\n",
    "plt.xticks(rotation=30, horizontalalignment=\"center\")\n",
    "plt.title('Distribution of lables before outliers removed')\n",
    "plt.xlabel(\"Resistance level\")\n",
    "plt.ylabel(\"Counts\")"
   ]
  },
  {
   "cell_type": "markdown",
   "metadata": {},
   "source": [
    "In the original dataset, there are 15 types of cement types, which can be grouped into five main types (CEM I, CEM II, CEM III, CEM IV, and CEM V). Whereas in the preprocessed data there are only seven types of cement. "
   ]
  },
  {
   "cell_type": "markdown",
   "metadata": {},
   "source": [
    "Let's count the number of each type of cement."
   ]
  },
  {
   "cell_type": "code",
   "execution_count": 31,
   "metadata": {},
   "outputs": [
    {
     "data": {
      "text/plain": [
       "CEM I         77\n",
       "CEM III/A      2\n",
       "CEM II/B-S     2\n",
       "CEM IV/A       1\n",
       "CEM II/A-D     1\n",
       "CEM II/B-V     1\n",
       "CEM II/A-V     1\n",
       "Name: Cement type, dtype: int64"
      ]
     },
     "execution_count": 31,
     "metadata": {},
     "output_type": "execute_result"
    }
   ],
   "source": [
    "Cement_counts =df_Mix_Pro_out['Cement type'].value_counts()\n",
    "Cement_counts"
   ]
  },
  {
   "cell_type": "markdown",
   "metadata": {},
   "source": [
    "Except for CEM I, the number of cement types is significantly low. Consider only \"CEM I\" and disregard the other cement types because they do not provide enough information."
   ]
  },
  {
   "cell_type": "code",
   "execution_count": 32,
   "metadata": {},
   "outputs": [],
   "source": [
    "# Retain only CEM I in the dataframe \n",
    "df_Mix_Pro_out1 = df_Mix_Pro_out[df_Mix_Pro_out['Cement type'] =='CEM I' ]"
   ]
  },
  {
   "cell_type": "markdown",
   "metadata": {},
   "source": [
    "Let's take a look at how the cleaned data's input features are distributed.\n"
   ]
  },
  {
   "cell_type": "code",
   "execution_count": 33,
   "metadata": {},
   "outputs": [
    {
     "data": {
      "image/png": "[encoded data removed]",
      "text/plain": [
       "<Figure size 1620x1620 with 90 Axes>"
      ]
     },
     "metadata": {
      "needs_background": "light"
     },
     "output_type": "display_data"
    }
   ],
   "source": [
    "# Select features to be visualize\n",
    "sns.pairplot(df_Mix_Pro_out1.iloc[:,0:9], height=2.5)\n",
    "plt.tight_layout()\n",
    "plt.show()"
   ]
  },
  {
   "cell_type": "markdown",
   "metadata": {},
   "source": [
    "There are very few instancs of fly ash being used as SCMs. Let us take a closer look."
   ]
  },
  {
   "cell_type": "code",
   "execution_count": 34,
   "metadata": {},
   "outputs": [
    {
     "data": {
      "text/html": [
       "<div>\n",
       "<style scoped>\n",
       "    .dataframe tbody tr th:only-of-type {\n",
       "        vertical-align: middle;\n",
       "    }\n",
       "\n",
       "    .dataframe tbody tr th {\n",
       "        vertical-align: top;\n",
       "    }\n",
       "\n",
       "    .dataframe thead th {\n",
       "        text-align: right;\n",
       "    }\n",
       "</style>\n",
       "<table border=\"1\" class=\"dataframe\">\n",
       "  <thead>\n",
       "    <tr style=\"text-align: right;\">\n",
       "      <th></th>\n",
       "      <th>w/b</th>\n",
       "      <th>Water</th>\n",
       "      <th>Cement</th>\n",
       "      <th>Slag</th>\n",
       "      <th>Fly ash</th>\n",
       "      <th>Silica fume</th>\n",
       "      <th>Total aggregate</th>\n",
       "      <th>Plasticizer</th>\n",
       "      <th>Superplasticizer</th>\n",
       "      <th>Air entraining</th>\n",
       "      <th>Compressive strength</th>\n",
       "      <th>Dnssm</th>\n",
       "      <th>Cement type</th>\n",
       "    </tr>\n",
       "  </thead>\n",
       "  <tbody>\n",
       "    <tr>\n",
       "      <th>71</th>\n",
       "      <td>0.36</td>\n",
       "      <td>172.8</td>\n",
       "      <td>192.0</td>\n",
       "      <td>144.0</td>\n",
       "      <td>144.0</td>\n",
       "      <td>0.0</td>\n",
       "      <td>1685.0</td>\n",
       "      <td>0.0</td>\n",
       "      <td>0.9</td>\n",
       "      <td>0.0</td>\n",
       "      <td>50.5</td>\n",
       "      <td>2.217</td>\n",
       "      <td>CEM I</td>\n",
       "    </tr>\n",
       "  </tbody>\n",
       "</table>\n",
       "</div>"
      ],
      "text/plain": [
       "     w/b  Water  Cement   Slag  Fly ash  Silica fume  Total aggregate  \\\n",
       "71  0.36  172.8   192.0  144.0    144.0          0.0           1685.0   \n",
       "\n",
       "    Plasticizer  Superplasticizer  Air entraining  Compressive strength  \\\n",
       "71          0.0               0.9             0.0                  50.5   \n",
       "\n",
       "    Dnssm Cement type  \n",
       "71  2.217       CEM I  "
      ]
     },
     "execution_count": 34,
     "metadata": {},
     "output_type": "execute_result"
    }
   ],
   "source": [
    "# Select slag amount greater than 0\n",
    "df_Mix_Pro_out1[df_Mix_Pro_out1['Slag'] > 0]"
   ]
  },
  {
   "cell_type": "markdown",
   "metadata": {},
   "source": [
    "As expected, slag is only used as a partial replacement for cement in one case. So this observation and the feature slag itself shall be removed from the dataset as it can cause a bias.\n"
   ]
  },
  {
   "cell_type": "code",
   "execution_count": 35,
   "metadata": {},
   "outputs": [],
   "source": [
    "# Remove the outliers \n",
    "df_Mix_Pro_out1 = df_Mix_Pro_out1.drop(index=[71])"
   ]
  },
  {
   "cell_type": "code",
   "execution_count": 36,
   "metadata": {},
   "outputs": [
    {
     "data": {
      "text/html": [
       "<div>\n",
       "<style scoped>\n",
       "    .dataframe tbody tr th:only-of-type {\n",
       "        vertical-align: middle;\n",
       "    }\n",
       "\n",
       "    .dataframe tbody tr th {\n",
       "        vertical-align: top;\n",
       "    }\n",
       "\n",
       "    .dataframe thead th {\n",
       "        text-align: right;\n",
       "    }\n",
       "</style>\n",
       "<table border=\"1\" class=\"dataframe\">\n",
       "  <thead>\n",
       "    <tr style=\"text-align: right;\">\n",
       "      <th></th>\n",
       "      <th>w/b</th>\n",
       "      <th>Water</th>\n",
       "      <th>Cement</th>\n",
       "      <th>Fly ash</th>\n",
       "      <th>Silica fume</th>\n",
       "      <th>Total aggregate</th>\n",
       "      <th>Plasticizer</th>\n",
       "      <th>Superplasticizer</th>\n",
       "      <th>Air entraining</th>\n",
       "      <th>Compressive strength</th>\n",
       "      <th>Dnssm</th>\n",
       "    </tr>\n",
       "  </thead>\n",
       "  <tbody>\n",
       "    <tr>\n",
       "      <th>0</th>\n",
       "      <td>0.55</td>\n",
       "      <td>192.5</td>\n",
       "      <td>350.0</td>\n",
       "      <td>0.0</td>\n",
       "      <td>0.0</td>\n",
       "      <td>1762.237</td>\n",
       "      <td>0.0</td>\n",
       "      <td>0.0</td>\n",
       "      <td>0.0</td>\n",
       "      <td>47.7</td>\n",
       "      <td>17.0</td>\n",
       "    </tr>\n",
       "    <tr>\n",
       "      <th>4</th>\n",
       "      <td>0.35</td>\n",
       "      <td>157.5</td>\n",
       "      <td>450.0</td>\n",
       "      <td>0.0</td>\n",
       "      <td>0.0</td>\n",
       "      <td>1762.338</td>\n",
       "      <td>0.0</td>\n",
       "      <td>0.0</td>\n",
       "      <td>0.0</td>\n",
       "      <td>66.1</td>\n",
       "      <td>10.6</td>\n",
       "    </tr>\n",
       "  </tbody>\n",
       "</table>\n",
       "</div>"
      ],
      "text/plain": [
       "    w/b  Water  Cement  Fly ash  Silica fume  Total aggregate  Plasticizer  \\\n",
       "0  0.55  192.5   350.0      0.0          0.0         1762.237          0.0   \n",
       "4  0.35  157.5   450.0      0.0          0.0         1762.338          0.0   \n",
       "\n",
       "   Superplasticizer  Air entraining  Compressive strength  Dnssm  \n",
       "0               0.0             0.0                  47.7   17.0  \n",
       "4               0.0             0.0                  66.1   10.6  "
      ]
     },
     "execution_count": 36,
     "metadata": {},
     "output_type": "execute_result"
    }
   ],
   "source": [
    "# Drop the features 'Cement type' and 'Slag' from the dataframe\n",
    "df_Mix_Pro_clean = df_Mix_Pro_out1.drop(columns=['Cement type','Slag'])\n",
    "df_Mix_Pro_clean.head(2)"
   ]
  },
  {
   "cell_type": "code",
   "execution_count": 37,
   "metadata": {},
   "outputs": [
    {
     "data": {
      "text/plain": [
       "(76, 11)"
      ]
     },
     "execution_count": 37,
     "metadata": {},
     "output_type": "execute_result"
    }
   ],
   "source": [
    "df_Mix_Pro_clean.shape"
   ]
  },
  {
   "cell_type": "markdown",
   "metadata": {},
   "source": [
    "Let's take a look at how the cleaned data's target features are distributed."
   ]
  },
  {
   "cell_type": "code",
   "execution_count": 38,
   "metadata": {},
   "outputs": [
    {
     "data": {
      "image/png": "[encoded data removed]",
      "text/plain": [
       "<Figure size 360x360 with 6 Axes>"
      ]
     },
     "metadata": {
      "needs_background": "light"
     },
     "output_type": "display_data"
    }
   ],
   "source": [
    "# Select features to be visualize\n",
    "cols = ['Compressive strength', 'Dnssm']\n",
    "sns.pairplot(df_Mix_Pro_clean[cols])\n",
    "plt.tight_layout()\n",
    "plt.show()"
   ]
  },
  {
   "cell_type": "markdown",
   "metadata": {},
   "source": [
    "Compressive strength appears to be more evenly distributed than Dnssm."
   ]
  },
  {
   "cell_type": "code",
   "execution_count": 39,
   "metadata": {},
   "outputs": [],
   "source": [
    "# reset index\n",
    "df_Mix_Pro_clean.reset_index(drop=True, inplace=True)"
   ]
  },
  {
   "cell_type": "code",
   "execution_count": 40,
   "metadata": {},
   "outputs": [],
   "source": [
    "# Write the prediction in an Excel sheet to visualize with another tool.\n",
    "df_Mix_Pro_clean.to_excel(\"df_Mix_Pro_clean.xlsx\",sheet_name='Clean_data') "
   ]
  },
  {
   "cell_type": "code",
   "execution_count": 41,
   "metadata": {},
   "outputs": [
    {
     "data": {
      "text/html": [
       "<div>\n",
       "<style scoped>\n",
       "    .dataframe tbody tr th:only-of-type {\n",
       "        vertical-align: middle;\n",
       "    }\n",
       "\n",
       "    .dataframe tbody tr th {\n",
       "        vertical-align: top;\n",
       "    }\n",
       "\n",
       "    .dataframe thead th {\n",
       "        text-align: right;\n",
       "    }\n",
       "</style>\n",
       "<table border=\"1\" class=\"dataframe\">\n",
       "  <thead>\n",
       "    <tr style=\"text-align: right;\">\n",
       "      <th></th>\n",
       "      <th>w/b</th>\n",
       "      <th>Water</th>\n",
       "      <th>Cement</th>\n",
       "      <th>Fly ash</th>\n",
       "      <th>Silica fume</th>\n",
       "      <th>Total aggregate</th>\n",
       "      <th>Plasticizer</th>\n",
       "      <th>Superplasticizer</th>\n",
       "      <th>Air entraining</th>\n",
       "      <th>Compressive strength</th>\n",
       "      <th>Dnssm</th>\n",
       "    </tr>\n",
       "  </thead>\n",
       "  <tbody>\n",
       "    <tr>\n",
       "      <th>count</th>\n",
       "      <td>76.000000</td>\n",
       "      <td>76.000000</td>\n",
       "      <td>76.000000</td>\n",
       "      <td>76.000000</td>\n",
       "      <td>76.000000</td>\n",
       "      <td>76.000000</td>\n",
       "      <td>76.000000</td>\n",
       "      <td>76.000000</td>\n",
       "      <td>76.000000</td>\n",
       "      <td>76.000000</td>\n",
       "      <td>76.000000</td>\n",
       "    </tr>\n",
       "    <tr>\n",
       "      <th>mean</th>\n",
       "      <td>0.416773</td>\n",
       "      <td>172.085526</td>\n",
       "      <td>384.138158</td>\n",
       "      <td>26.238158</td>\n",
       "      <td>7.257895</td>\n",
       "      <td>1563.900882</td>\n",
       "      <td>0.117344</td>\n",
       "      <td>0.471622</td>\n",
       "      <td>0.235526</td>\n",
       "      <td>49.621053</td>\n",
       "      <td>9.134395</td>\n",
       "    </tr>\n",
       "    <tr>\n",
       "      <th>std</th>\n",
       "      <td>0.064500</td>\n",
       "      <td>21.103710</td>\n",
       "      <td>75.451413</td>\n",
       "      <td>51.323822</td>\n",
       "      <td>16.309335</td>\n",
       "      <td>276.554181</td>\n",
       "      <td>0.303467</td>\n",
       "      <td>0.409075</td>\n",
       "      <td>0.893787</td>\n",
       "      <td>13.181677</td>\n",
       "      <td>4.898790</td>\n",
       "    </tr>\n",
       "    <tr>\n",
       "      <th>min</th>\n",
       "      <td>0.300000</td>\n",
       "      <td>122.500000</td>\n",
       "      <td>217.000000</td>\n",
       "      <td>0.000000</td>\n",
       "      <td>0.000000</td>\n",
       "      <td>839.000000</td>\n",
       "      <td>0.000000</td>\n",
       "      <td>0.000000</td>\n",
       "      <td>0.000000</td>\n",
       "      <td>21.000000</td>\n",
       "      <td>1.569000</td>\n",
       "    </tr>\n",
       "    <tr>\n",
       "      <th>25%</th>\n",
       "      <td>0.350000</td>\n",
       "      <td>158.000000</td>\n",
       "      <td>323.750000</td>\n",
       "      <td>0.000000</td>\n",
       "      <td>0.000000</td>\n",
       "      <td>1376.765000</td>\n",
       "      <td>0.000000</td>\n",
       "      <td>0.000000</td>\n",
       "      <td>0.000000</td>\n",
       "      <td>41.400000</td>\n",
       "      <td>6.075000</td>\n",
       "    </tr>\n",
       "    <tr>\n",
       "      <th>50%</th>\n",
       "      <td>0.413865</td>\n",
       "      <td>171.000000</td>\n",
       "      <td>383.000000</td>\n",
       "      <td>0.000000</td>\n",
       "      <td>0.000000</td>\n",
       "      <td>1615.000000</td>\n",
       "      <td>0.000000</td>\n",
       "      <td>0.537222</td>\n",
       "      <td>0.000000</td>\n",
       "      <td>48.800000</td>\n",
       "      <td>7.950000</td>\n",
       "    </tr>\n",
       "    <tr>\n",
       "      <th>75%</th>\n",
       "      <td>0.450000</td>\n",
       "      <td>189.000000</td>\n",
       "      <td>450.000000</td>\n",
       "      <td>13.500000</td>\n",
       "      <td>0.000000</td>\n",
       "      <td>1810.750000</td>\n",
       "      <td>0.000000</td>\n",
       "      <td>0.732895</td>\n",
       "      <td>0.000000</td>\n",
       "      <td>58.850000</td>\n",
       "      <td>10.532500</td>\n",
       "    </tr>\n",
       "    <tr>\n",
       "      <th>max</th>\n",
       "      <td>0.600000</td>\n",
       "      <td>217.000000</td>\n",
       "      <td>525.000000</td>\n",
       "      <td>216.000000</td>\n",
       "      <td>60.000000</td>\n",
       "      <td>1950.000000</td>\n",
       "      <td>0.894737</td>\n",
       "      <td>1.555556</td>\n",
       "      <td>5.800000</td>\n",
       "      <td>80.000000</td>\n",
       "      <td>31.300000</td>\n",
       "    </tr>\n",
       "  </tbody>\n",
       "</table>\n",
       "</div>"
      ],
      "text/plain": [
       "             w/b       Water      Cement     Fly ash  Silica fume  \\\n",
       "count  76.000000   76.000000   76.000000   76.000000    76.000000   \n",
       "mean    0.416773  172.085526  384.138158   26.238158     7.257895   \n",
       "std     0.064500   21.103710   75.451413   51.323822    16.309335   \n",
       "min     0.300000  122.500000  217.000000    0.000000     0.000000   \n",
       "25%     0.350000  158.000000  323.750000    0.000000     0.000000   \n",
       "50%     0.413865  171.000000  383.000000    0.000000     0.000000   \n",
       "75%     0.450000  189.000000  450.000000   13.500000     0.000000   \n",
       "max     0.600000  217.000000  525.000000  216.000000    60.000000   \n",
       "\n",
       "       Total aggregate  Plasticizer  Superplasticizer  Air entraining  \\\n",
       "count        76.000000    76.000000         76.000000       76.000000   \n",
       "mean       1563.900882     0.117344          0.471622        0.235526   \n",
       "std         276.554181     0.303467          0.409075        0.893787   \n",
       "min         839.000000     0.000000          0.000000        0.000000   \n",
       "25%        1376.765000     0.000000          0.000000        0.000000   \n",
       "50%        1615.000000     0.000000          0.537222        0.000000   \n",
       "75%        1810.750000     0.000000          0.732895        0.000000   \n",
       "max        1950.000000     0.894737          1.555556        5.800000   \n",
       "\n",
       "       Compressive strength      Dnssm  \n",
       "count             76.000000  76.000000  \n",
       "mean              49.621053   9.134395  \n",
       "std               13.181677   4.898790  \n",
       "min               21.000000   1.569000  \n",
       "25%               41.400000   6.075000  \n",
       "50%               48.800000   7.950000  \n",
       "75%               58.850000  10.532500  \n",
       "max               80.000000  31.300000  "
      ]
     },
     "execution_count": 41,
     "metadata": {},
     "output_type": "execute_result"
    }
   ],
   "source": [
    "df_Mix_Pro_clean.describe()"
   ]
  },
  {
   "cell_type": "markdown",
   "metadata": {},
   "source": [
    "# Model training"
   ]
  },
  {
   "cell_type": "markdown",
   "metadata": {},
   "source": [
    "The modeling activity in this work is done with two scenarios in mind: **Scenarios 1 & 2**. **Scenario 1** uses the default hyperparameter settings for multioutput regression. **Scenario 2** takes into account selected hyperparameters identified by considering only one of the target features. The hyperparameters that were identified were then used to fit the multioutput regression.\n",
    "\n"
   ]
  },
  {
   "cell_type": "markdown",
   "metadata": {},
   "source": [
    "# Scenario 1 "
   ]
  },
  {
   "cell_type": "code",
   "execution_count": 42,
   "metadata": {},
   "outputs": [],
   "source": [
    "# Input features\n",
    "X = df_Mix_Pro_clean.iloc[:,0:-2]\n",
    "\n",
    "# Target features\n",
    "y = df_Mix_Pro_clean.iloc[:,-2:]"
   ]
  },
  {
   "cell_type": "code",
   "execution_count": 43,
   "metadata": {},
   "outputs": [
    {
     "name": "stdout",
     "output_type": "stream",
     "text": [
      "Input features: (76, 9) Target features: (76, 2)\n"
     ]
    }
   ],
   "source": [
    "print ('Input features:',X.shape,'Target features:', y.shape)"
   ]
  },
  {
   "cell_type": "code",
   "execution_count": 44,
   "metadata": {},
   "outputs": [
    {
     "name": "stdout",
     "output_type": "stream",
     "text": [
      "Train set: (60, 9) (60, 2)\n",
      "Test set: (16, 9) (16, 2)\n"
     ]
    }
   ],
   "source": [
    "# Split the data into training and test sets\n",
    "X_train, X_test, y_train, y_test = train_test_split( X, y, test_size=0.2, random_state=42)\n",
    "\n",
    "print ('Train set:', X_train.shape,  y_train.shape)\n",
    "print ('Test set:', X_test.shape,  y_test.shape)"
   ]
  },
  {
   "cell_type": "markdown",
   "metadata": {},
   "source": [
    "## XGBoost"
   ]
  },
  {
   "cell_type": "code",
   "execution_count": 45,
   "metadata": {},
   "outputs": [],
   "source": [
    "# Model\n",
    "XGB = MultiOutputRegressor(\n",
    "    XGBRegressor(random_state=42))\n",
    "\n",
    "# Fit the model\n",
    "XGB.fit(X_train, y_train)\n",
    "\n",
    "# Predict on test dataset\n",
    "y_pred_XGB = XGB.predict(X_test)\n",
    "\n",
    "# Convert array to DF\n",
    "y_pred_XGB=pd.DataFrame(y_pred_XGB)"
   ]
  },
  {
   "cell_type": "code",
   "execution_count": 46,
   "metadata": {},
   "outputs": [
    {
     "name": "stdout",
     "output_type": "stream",
     "text": [
      "Mean Absolute Error (MAE): 7.602\n",
      "Mean Squared Error (MSE):  120.331\n",
      "RMSE: 10.970\n"
     ]
    }
   ],
   "source": [
    "print(\"Mean Absolute Error (MAE): {:.3f}\".format(mae(y_test.iloc[:,0], y_pred_XGB.iloc[:,0])))\n",
    "print(\"Mean Squared Error (MSE):  {:.3f}\". format(mse(y_test.iloc[:,0], y_pred_XGB.iloc[:,0])))\n",
    "print(\"RMSE: {:.3f}\".format(mse(y_test.iloc[:,0], y_pred_XGB.iloc[:,0])**(1/2)))"
   ]
  },
  {
   "cell_type": "code",
   "execution_count": 47,
   "metadata": {},
   "outputs": [
    {
     "name": "stdout",
     "output_type": "stream",
     "text": [
      "Mean Absolute Error (MAE): 1.949\n",
      "Mean Squared Error (MSE):  5.595\n",
      "RMSE: 2.365\n"
     ]
    }
   ],
   "source": [
    "print(\"Mean Absolute Error (MAE): {:.3f}\".format(mae(y_test.iloc[:,1], y_pred_XGB.iloc[:,1])))\n",
    "print(\"Mean Squared Error (MSE):  {:.3f}\". format(mse(y_test.iloc[:,1], y_pred_XGB.iloc[:,1])))\n",
    "print(\"RMSE: {:.3f}\".format(mse(y_test.iloc[:,1], y_pred_XGB.iloc[:,1])**(1/2)))"
   ]
  },
  {
   "cell_type": "markdown",
   "metadata": {},
   "source": [
    "# AdaBoost"
   ]
  },
  {
   "cell_type": "code",
   "execution_count": 48,
   "metadata": {},
   "outputs": [],
   "source": [
    "# Model\n",
    "ADA= MultiOutputRegressor(\n",
    "    AdaBoostRegressor(random_state=42))\n",
    "\n",
    "# Fit the model\n",
    "ADA.fit(X_train, y_train)\n",
    "\n",
    "# Predict on test dataset\n",
    "y_pred_ADA = ADA.predict(X_test)\n",
    "\n",
    "# Convert array to DF\n",
    "y_pred_ADA = pd.DataFrame(y_pred_ADA)"
   ]
  },
  {
   "cell_type": "code",
   "execution_count": 49,
   "metadata": {},
   "outputs": [
    {
     "name": "stdout",
     "output_type": "stream",
     "text": [
      "Mean Absolute Error (MAE): 8.152\n",
      "Mean Squared Error (MSE):  120.382\n",
      "RMSE: 10.972\n"
     ]
    }
   ],
   "source": [
    "print(\"Mean Absolute Error (MAE): {:.3f}\".format(mae(y_test.iloc[:,0], y_pred_ADA.iloc[:,0])))\n",
    "print(\"Mean Squared Error (MSE):  {:.3f}\". format(mse(y_test.iloc[:,0], y_pred_ADA.iloc[:,0])))\n",
    "print(\"RMSE: {:.3f}\".format(mse(y_test.iloc[:,0], y_pred_ADA.iloc[:,0])**(1/2)))"
   ]
  },
  {
   "cell_type": "code",
   "execution_count": 50,
   "metadata": {},
   "outputs": [
    {
     "name": "stdout",
     "output_type": "stream",
     "text": [
      "Mean Absolute Error (MAE): 1.707\n",
      "Mean Squared Error (MSE):  5.259\n",
      "RMSE: 2.293\n"
     ]
    }
   ],
   "source": [
    "print(\"Mean Absolute Error (MAE): {:.3f}\".format(mae(y_test.iloc[:,1], y_pred_ADA.iloc[:,1])))\n",
    "print(\"Mean Squared Error (MSE):  {:.3f}\". format(mse(y_test.iloc[:,1], y_pred_ADA.iloc[:,1])))\n",
    "print(\"RMSE: {:.3f}\".format(mse(y_test.iloc[:,1], y_pred_ADA.iloc[:,1])**(1/2)))"
   ]
  },
  {
   "cell_type": "markdown",
   "metadata": {},
   "source": [
    "#  Random Forest"
   ]
  },
  {
   "cell_type": "code",
   "execution_count": 51,
   "metadata": {},
   "outputs": [],
   "source": [
    "# Model\n",
    "RF = MultiOutputRegressor(\n",
    "    RandomForestRegressor(random_state=42))\n",
    "\n",
    "# Fit the model\n",
    "RF.fit(X_train, y_train)\n",
    "\n",
    "# Predict on test dataset\n",
    "y_pred_RF = RF.predict(X_test)\n",
    "\n",
    "# Convert array to DF\n",
    "y_pred_RF = pd.DataFrame(y_pred_RF)"
   ]
  },
  {
   "cell_type": "code",
   "execution_count": 52,
   "metadata": {},
   "outputs": [
    {
     "name": "stdout",
     "output_type": "stream",
     "text": [
      "Mean Absolute Error (MAE): 7.254\n",
      "Mean Squared Error (MSE):  109.144\n",
      "RMSE: 10.447\n"
     ]
    }
   ],
   "source": [
    "print(\"Mean Absolute Error (MAE): {:.3f}\".format(mae(y_test.iloc[:,0], y_pred_RF.iloc[:,0])))\n",
    "print(\"Mean Squared Error (MSE):  {:.3f}\". format(mse(y_test.iloc[:,0], y_pred_RF.iloc[:,0])))\n",
    "print(\"RMSE: {:.3f}\".format(mse(y_test.iloc[:,0], y_pred_RF.iloc[:,0])**(1/2)))"
   ]
  },
  {
   "cell_type": "code",
   "execution_count": 53,
   "metadata": {},
   "outputs": [
    {
     "name": "stdout",
     "output_type": "stream",
     "text": [
      "Mean Absolute Error (MAE): 1.765\n",
      "Mean Squared Error (MSE):  5.948\n",
      "RMSE: 2.439\n"
     ]
    }
   ],
   "source": [
    "print(\"Mean Absolute Error (MAE): {:.3f}\".format(mae(y_test.iloc[:,1], y_pred_RF.iloc[:,1])))\n",
    "print(\"Mean Squared Error (MSE):  {:.3f}\". format(mse(y_test.iloc[:,1], y_pred_RF.iloc[:,1])))\n",
    "print(\"RMSE: {:.3f}\".format(mse(y_test.iloc[:,1], y_pred_RF.iloc[:,1])**(1/2)))"
   ]
  },
  {
   "cell_type": "markdown",
   "metadata": {},
   "source": [
    "#  Gradient Boosting"
   ]
  },
  {
   "cell_type": "code",
   "execution_count": 54,
   "metadata": {},
   "outputs": [],
   "source": [
    "# Model\n",
    "GBR = MultiOutputRegressor(\n",
    "    GradientBoostingRegressor(random_state=42))\n",
    "\n",
    "# Fit the model\n",
    "GBR.fit(X_train, y_train)\n",
    "\n",
    "# Predict on test dataset\n",
    "y_pred_GBR = GBR.predict(X_test)\n",
    "\n",
    "# Convert array to DF\n",
    "y_pred_GBR = pd.DataFrame(y_pred_GBR)"
   ]
  },
  {
   "cell_type": "code",
   "execution_count": 55,
   "metadata": {},
   "outputs": [
    {
     "name": "stdout",
     "output_type": "stream",
     "text": [
      "Mean Absolute Error (MAE): 5.918\n",
      "Mean Squared Error (MSE):  85.930\n",
      "RMSE: 9.270\n"
     ]
    }
   ],
   "source": [
    "print(\"Mean Absolute Error (MAE): {:.3f}\".format(mae(y_test.iloc[:,0], y_pred_GBR.iloc[:,0])))\n",
    "print(\"Mean Squared Error (MSE):  {:.3f}\". format(mse(y_test.iloc[:,0], y_pred_GBR.iloc[:,0])))\n",
    "print(\"RMSE: {:.3f}\".format(mse(y_test.iloc[:,0], y_pred_GBR.iloc[:,0])**(1/2)))"
   ]
  },
  {
   "cell_type": "code",
   "execution_count": 56,
   "metadata": {},
   "outputs": [
    {
     "name": "stdout",
     "output_type": "stream",
     "text": [
      "Mean Absolute Error (MAE): 1.546\n",
      "Mean Squared Error (MSE):  4.695\n",
      "RMSE: 2.167\n"
     ]
    }
   ],
   "source": [
    "print(\"Mean Absolute Error (MAE): {:.3f}\".format(mae(y_test.iloc[:,1], y_pred_GBR.iloc[:,1])))\n",
    "print(\"Mean Squared Error (MSE):  {:.3f}\". format(mse(y_test.iloc[:,1], y_pred_GBR.iloc[:,1])))\n",
    "print(\"RMSE: {:.3f}\".format(mse(y_test.iloc[:,1], y_pred_GBR.iloc[:,1])**(1/2)))"
   ]
  },
  {
   "cell_type": "markdown",
   "metadata": {},
   "source": [
    "# Bagging"
   ]
  },
  {
   "cell_type": "code",
   "execution_count": 57,
   "metadata": {},
   "outputs": [],
   "source": [
    "# Model\n",
    "BR = MultiOutputRegressor(\n",
    "    BaggingRegressor(random_state=42))\n",
    "\n",
    "# Fit the model\n",
    "BR.fit(X_train, y_train)\n",
    "\n",
    "# Predict on test dataset\n",
    "y_pred_BR = BR.predict(X_test)\n",
    "\n",
    "# Convert array to DF\n",
    "y_pred_BR = pd.DataFrame(y_pred_BR)"
   ]
  },
  {
   "cell_type": "code",
   "execution_count": 58,
   "metadata": {},
   "outputs": [
    {
     "name": "stdout",
     "output_type": "stream",
     "text": [
      "Mean Absolute Error (MAE): 6.986\n",
      "Mean Squared Error (MSE):  93.147\n",
      "RMSE: 9.651\n"
     ]
    }
   ],
   "source": [
    "print(\"Mean Absolute Error (MAE): {:.3f}\".format(mae(y_test.iloc[:,0], y_pred_BR.iloc[:,0])))\n",
    "print(\"Mean Squared Error (MSE):  {:.3f}\". format(mse(y_test.iloc[:,0], y_pred_BR.iloc[:,0])))\n",
    "print(\"RMSE: {:.3f}\".format(mse(y_test.iloc[:,0], y_pred_BR.iloc[:,0])**(1/2)))"
   ]
  },
  {
   "cell_type": "code",
   "execution_count": 59,
   "metadata": {},
   "outputs": [
    {
     "name": "stdout",
     "output_type": "stream",
     "text": [
      "Mean Absolute Error (MAE): 1.756\n",
      "Mean Squared Error (MSE):  6.934\n",
      "RMSE: 2.633\n"
     ]
    }
   ],
   "source": [
    "print(\"Mean Absolute Error (MAE): {:.3f}\".format(mae(y_test.iloc[:,1], y_pred_BR.iloc[:,1])))\n",
    "print(\"Mean Squared Error (MSE):  {:.3f}\". format(mse(y_test.iloc[:,1], y_pred_BR.iloc[:,1])))\n",
    "print(\"RMSE: {:.3f}\".format(mse(y_test.iloc[:,1], y_pred_BR.iloc[:,1])**(1/2)))"
   ]
  },
  {
   "cell_type": "code",
   "execution_count": 60,
   "metadata": {},
   "outputs": [
    {
     "data": {
      "text/html": [
       "<div>\n",
       "<style scoped>\n",
       "    .dataframe tbody tr th:only-of-type {\n",
       "        vertical-align: middle;\n",
       "    }\n",
       "\n",
       "    .dataframe tbody tr th {\n",
       "        vertical-align: top;\n",
       "    }\n",
       "\n",
       "    .dataframe thead th {\n",
       "        text-align: right;\n",
       "    }\n",
       "</style>\n",
       "<table border=\"1\" class=\"dataframe\">\n",
       "  <thead>\n",
       "    <tr style=\"text-align: right;\">\n",
       "      <th></th>\n",
       "      <th>Measured</th>\n",
       "      <th>XGBoost</th>\n",
       "      <th>AdaBoost</th>\n",
       "      <th>Random Forest</th>\n",
       "      <th>Gradient Boosting</th>\n",
       "      <th>Bagging</th>\n",
       "    </tr>\n",
       "  </thead>\n",
       "  <tbody>\n",
       "    <tr>\n",
       "      <th>0</th>\n",
       "      <td>35.9</td>\n",
       "      <td>66.099648</td>\n",
       "      <td>64.378947</td>\n",
       "      <td>61.920783</td>\n",
       "      <td>63.647335</td>\n",
       "      <td>62.85</td>\n",
       "    </tr>\n",
       "    <tr>\n",
       "      <th>1</th>\n",
       "      <td>41.5</td>\n",
       "      <td>39.373569</td>\n",
       "      <td>45.164000</td>\n",
       "      <td>41.426000</td>\n",
       "      <td>44.634021</td>\n",
       "      <td>44.81</td>\n",
       "    </tr>\n",
       "  </tbody>\n",
       "</table>\n",
       "</div>"
      ],
      "text/plain": [
       "   Measured    XGBoost   AdaBoost  Random Forest  Gradient Boosting  Bagging\n",
       "0      35.9  66.099648  64.378947      61.920783          63.647335    62.85\n",
       "1      41.5  39.373569  45.164000      41.426000          44.634021    44.81"
      ]
     },
     "execution_count": 60,
     "metadata": {},
     "output_type": "execute_result"
    }
   ],
   "source": [
    "# rest index of y_test\n",
    "y_test.reset_index(drop=True, inplace=True)\n",
    "\n",
    "# Measured and predicted comprehensive strength values \n",
    "Pred_CS_S1 = pd.concat([y_test.iloc[:,0], y_pred_XGB.iloc[:,0],  y_pred_ADA.iloc[:,0], y_pred_RF.iloc[:,0], \n",
    "                        y_pred_GBR.iloc[:,0], y_pred_BR.iloc[:,0]], axis = 1)\n",
    "Pred_CS_S1.columns = ['Measured', 'XGBoost','AdaBoost','Random Forest','Gradient Boosting','Bagging']\n",
    "\n",
    "## Measured and predicted Dnssm values \n",
    "Pred_Dnssm_S1 = pd.concat([y_test.iloc[:,1], y_pred_XGB.iloc[:,1],  y_pred_ADA.iloc[:,1], y_pred_RF.iloc[:,1],\n",
    "                           y_pred_GBR.iloc[:,1], y_pred_BR.iloc[:,1]], axis = 1)\n",
    "Pred_Dnssm_S1.columns = ['Measured', 'XGBoost','AdaBoost','Random Forest','Gradient Boosting','Bagging']\n",
    "Pred_CS_S1.head(2)"
   ]
  },
  {
   "cell_type": "markdown",
   "metadata": {},
   "source": [
    "Write the prediction in an Excel spreadsheet to visualize it with another tool."
   ]
  },
  {
   "cell_type": "code",
   "execution_count": 61,
   "metadata": {},
   "outputs": [],
   "source": [
    "# Write the prediction in an Excel sheet.\n",
    "Pred_CS_S1.to_excel(\"Pred_CS_S1.xlsx\",sheet_name='Pred_CS_S1')  \n",
    "Pred_Dnssm_S1.to_excel(\"Pred_Dnssm_S1.xlsx\",sheet_name='Pred_Dnssm_S1')  "
   ]
  },
  {
   "cell_type": "markdown",
   "metadata": {},
   "source": [
    "# Senario 2\n",
    "\n",
    "\n",
    "\n"
   ]
  },
  {
   "cell_type": "markdown",
   "metadata": {},
   "source": [
    "Let's prepare input features and one target feature, then train the model to find the best hyperparameters for higher prediction accuracy. The identified hyperparameters will then be used to train the model to predict multiple targets.\n"
   ]
  },
  {
   "cell_type": "code",
   "execution_count": 62,
   "metadata": {},
   "outputs": [],
   "source": [
    "# Select input features\n",
    "X1 = df_Mix_Pro_clean.iloc[:,0:-2]\n",
    "\n",
    "# Select one taget feature\n",
    "y1 = df_Mix_Pro_clean.iloc[:,-2]"
   ]
  },
  {
   "cell_type": "code",
   "execution_count": 63,
   "metadata": {},
   "outputs": [
    {
     "name": "stdout",
     "output_type": "stream",
     "text": [
      "Train set: (60, 9) (60,)\n",
      "Test set: (16, 9) (16,)\n"
     ]
    }
   ],
   "source": [
    "# Split the data into training and test sets\n",
    "X_train1, X_test1, y_train1, y_test1 = train_test_split( X1, y1, test_size=0.2, random_state=42)\n",
    "\n",
    "print ('Train set:', X_train1.shape,  y_train1.shape)\n",
    "print ('Test set:', X_test1.shape,  y_test1.shape)"
   ]
  },
  {
   "cell_type": "markdown",
   "metadata": {},
   "source": [
    "# XGBoost Optimized"
   ]
  },
  {
   "cell_type": "code",
   "execution_count": 64,
   "metadata": {},
   "outputs": [
    {
     "name": "stdout",
     "output_type": "stream",
     "text": [
      "Best Score: 0.5322806759199009\n",
      "Best Param: {'booster': 'gbtree', 'gamma': 0.0001, 'learning_rate': 0.1, 'max_depth': 2, 'n_estimators': 50}\n"
     ]
    }
   ],
   "source": [
    "# Prepare and train a model and identify best hyperparameters based on a single target feature\n",
    "\n",
    "xgb = XGBRegressor()\n",
    "\n",
    "## grid search to find the best model parameter\n",
    "\n",
    "param_grid = {\n",
    "        'n_estimators': [20, 50, 100, 300,500],\n",
    "        'max_depth': [2, 4, 6, 8, 10],\n",
    "        'gamma': [0.0001, 0.001, 0.01],\n",
    "        'learning_rate': [0.001, 0.01, 0.1, 0.3],\n",
    "        'booster': ['gbtree']\n",
    "    }\n",
    "\n",
    "grid_search_model = GridSearchCV(xgb, param_grid=param_grid, cv=5, return_train_score=True, n_jobs=-1)\n",
    "grid_search_model.fit(X_train1, y_train1)\n",
    "\n",
    "print(f'Best Score: {grid_search_model.best_score_}')\n",
    "print(f'Best Param: {grid_search_model.best_params_}')"
   ]
  },
  {
   "cell_type": "code",
   "execution_count": 65,
   "metadata": {},
   "outputs": [],
   "source": [
    "# Train multi-targets using the identified hyperprameters.\n",
    "\n",
    "xgb_multi = MultiOutputRegressor(\n",
    "    XGBRegressor(booster= 'gbtree', gamma= 0.0001, learning_rate= 0.01, \n",
    "                 max_depth= 2, n_estimators= 500, random_state=42)\n",
    ")\n",
    "\n",
    "xgb_multi.fit(X_train, y_train)\n",
    "\n",
    "# Predict on test dataset\n",
    "y_pred_xgb_multi = xgb_multi.predict(X_test)\n",
    "\n",
    "# Convert array to DF\n",
    "y_pred_xgb_multi=pd.DataFrame(y_pred_xgb_multi)"
   ]
  },
  {
   "cell_type": "code",
   "execution_count": 66,
   "metadata": {},
   "outputs": [
    {
     "name": "stdout",
     "output_type": "stream",
     "text": [
      "Mean Absolute Error (MAE): 6.264\n",
      "Mean Squared Error (MSE):  73.890\n",
      "RMSE: 8.596\n"
     ]
    }
   ],
   "source": [
    "print(\"Mean Absolute Error (MAE): {:.3f}\".format(mae(y_test.iloc[:,0], y_pred_xgb_multi.iloc[:,0])))\n",
    "print(\"Mean Squared Error (MSE):  {:.3f}\". format(mse(y_test.iloc[:,0], y_pred_xgb_multi.iloc[:,0])))\n",
    "print(\"RMSE: {:.3f}\".format(mse(y_test.iloc[:,0], y_pred_xgb_multi.iloc[:,0])**(1/2)))"
   ]
  },
  {
   "cell_type": "code",
   "execution_count": 67,
   "metadata": {},
   "outputs": [
    {
     "name": "stdout",
     "output_type": "stream",
     "text": [
      "Mean Absolute Error (MAE): 1.588\n",
      "Mean Squared Error (MSE):  4.781\n",
      "RMSE: 2.186\n"
     ]
    }
   ],
   "source": [
    "print(\"Mean Absolute Error (MAE): {:.3f}\".format(mae(y_test.iloc[:,1], y_pred_xgb_multi.iloc[:,1])))\n",
    "print(\"Mean Squared Error (MSE):  {:.3f}\". format(mse(y_test.iloc[:,1], y_pred_xgb_multi.iloc[:,1])))\n",
    "print(\"RMSE: {:.3f}\".format(mse(y_test.iloc[:,1], y_pred_xgb_multi.iloc[:,1])**(1/2)))"
   ]
  },
  {
   "cell_type": "markdown",
   "metadata": {},
   "source": [
    "# AdaBoost Optimized"
   ]
  },
  {
   "cell_type": "code",
   "execution_count": 68,
   "metadata": {},
   "outputs": [
    {
     "name": "stdout",
     "output_type": "stream",
     "text": [
      "Fitting 5 folds for each of 54 candidates, totalling 270 fits\n"
     ]
    },
    {
     "name": "stderr",
     "output_type": "stream",
     "text": [
      "[Parallel(n_jobs=-1)]: Using backend LokyBackend with 4 concurrent workers.\n",
      "[Parallel(n_jobs=-1)]: Done  24 tasks      | elapsed:    1.2s\n",
      "[Parallel(n_jobs=-1)]: Done 120 tasks      | elapsed:    5.6s\n"
     ]
    },
    {
     "name": "stdout",
     "output_type": "stream",
     "text": [
      "Best Score: 0.5173273853169242\n",
      "Best Param: {'learning_rate': 1, 'loss': 'square', 'n_estimators': 60}\n"
     ]
    },
    {
     "name": "stderr",
     "output_type": "stream",
     "text": [
      "[Parallel(n_jobs=-1)]: Done 270 out of 270 | elapsed:   12.3s finished\n"
     ]
    }
   ],
   "source": [
    "# Prepare and train a model and identify best hyperparameters based on a single target feature\n",
    "\n",
    "adbr = AdaBoostRegressor()\n",
    "## grid search to find the best model parameters\n",
    "\n",
    "parameters_adbr={'learning_rate':[0.05,0.1,0.2,0.6,0.8,1],\n",
    "                'n_estimators': [50,60,100],\n",
    "                'loss' : ['linear', 'square', 'exponential']}\n",
    "\n",
    "grid_search_adbr=GridSearchCV(adbr, param_grid=parameters_adbr,cv=5,n_jobs = -1, verbose=3)\n",
    "grid_search_adbr.fit(X_train1, y_train1)\n",
    "\n",
    "print(f'Best Score: {grid_search_adbr.best_score_}')\n",
    "print(f'Best Param: {grid_search_adbr.best_params_}')\n"
   ]
  },
  {
   "cell_type": "code",
   "execution_count": 69,
   "metadata": {},
   "outputs": [],
   "source": [
    "# Train multi-targets using the identified hyperprameters.\n",
    "\n",
    "adbr_multi = MultiOutputRegressor(\n",
    "    AdaBoostRegressor(learning_rate = 1, loss = 'exponential', n_estimators = 60, random_state=42)\n",
    ")\n",
    "\n",
    "adbr_multi.fit(X_train, y_train)\n",
    "\n",
    "# Predict on test dataset\n",
    "y_pred_adbr_multi = adbr_multi.predict(X_test)\n",
    "\n",
    "# Convert array to DF\n",
    "y_pred_adbr_multi = pd.DataFrame(y_pred_adbr_multi)"
   ]
  },
  {
   "cell_type": "code",
   "execution_count": 70,
   "metadata": {},
   "outputs": [
    {
     "name": "stdout",
     "output_type": "stream",
     "text": [
      "Mean Absolute Error (MAE): 7.727\n",
      "Mean Squared Error (MSE):  114.646\n",
      "RMSE: 10.707\n"
     ]
    }
   ],
   "source": [
    "print(\"Mean Absolute Error (MAE): {:.3f}\".format(mae(y_test.iloc[:,0], y_pred_adbr_multi.iloc[:,0])))\n",
    "print(\"Mean Squared Error (MSE):  {:.3f}\". format(mse(y_test.iloc[:,0], y_pred_adbr_multi.iloc[:,0])))\n",
    "print(\"RMSE: {:.3f}\".format(mse(y_test.iloc[:,0], y_pred_adbr_multi.iloc[:,0])**(1/2)))"
   ]
  },
  {
   "cell_type": "code",
   "execution_count": 71,
   "metadata": {},
   "outputs": [
    {
     "name": "stdout",
     "output_type": "stream",
     "text": [
      "Mean Absolute Error (MAE): 1.612\n",
      "Mean Squared Error (MSE):  4.644\n",
      "RMSE: 2.155\n"
     ]
    }
   ],
   "source": [
    "print(\"Mean Absolute Error (MAE): {:.3f}\".format(mae(y_test.iloc[:,1], y_pred_adbr_multi.iloc[:,1])))\n",
    "print(\"Mean Squared Error (MSE):  {:.3f}\". format(mse(y_test.iloc[:,1], y_pred_adbr_multi.iloc[:,1])))\n",
    "print(\"RMSE: {:.3f}\".format(mse(y_test.iloc[:,1], y_pred_adbr_multi.iloc[:,1])**(1/2)))"
   ]
  },
  {
   "cell_type": "markdown",
   "metadata": {},
   "source": [
    "# Random Forest Optimized"
   ]
  },
  {
   "cell_type": "code",
   "execution_count": 72,
   "metadata": {},
   "outputs": [
    {
     "name": "stdout",
     "output_type": "stream",
     "text": [
      "Fitting 5 folds for each of 432 candidates, totalling 2160 fits\n"
     ]
    },
    {
     "name": "stderr",
     "output_type": "stream",
     "text": [
      "[Parallel(n_jobs=-1)]: Using backend LokyBackend with 4 concurrent workers.\n",
      "[Parallel(n_jobs=-1)]: Done  33 tasks      | elapsed:    4.6s\n",
      "[Parallel(n_jobs=-1)]: Done 154 tasks      | elapsed:   25.8s\n",
      "[Parallel(n_jobs=-1)]: Done 357 tasks      | elapsed:  1.0min\n",
      "[Parallel(n_jobs=-1)]: Done 640 tasks      | elapsed:  1.9min\n",
      "[Parallel(n_jobs=-1)]: Done 1005 tasks      | elapsed:  2.9min\n",
      "[Parallel(n_jobs=-1)]: Done 1450 tasks      | elapsed:  4.2min\n",
      "[Parallel(n_jobs=-1)]: Done 1977 tasks      | elapsed:  5.8min\n",
      "[Parallel(n_jobs=-1)]: Done 2160 out of 2160 | elapsed:  6.4min finished\n"
     ]
    },
    {
     "name": "stdout",
     "output_type": "stream",
     "text": [
      "Best Score: 0.4246091787362528\n",
      "Best Param: {'bootstrap': True, 'max_depth': 80, 'max_features': 'log2', 'min_samples_leaf': 3, 'min_samples_split': 8, 'n_estimators': 300}\n"
     ]
    }
   ],
   "source": [
    "# Prepare and train a model and identify best hyperparameters based on a single target feature\n",
    "\n",
    "rf = RandomForestRegressor()\n",
    "\n",
    "## grid search to find the best model parameter\n",
    "\n",
    "parameters_rf = {'bootstrap': [True],\n",
    "                'max_depth': [80, 90, 100, 110],\n",
    "                'max_features':['auto', 'sqrt', 'log2'],\n",
    "                'min_samples_leaf': [3, 4, 5],\n",
    "                'min_samples_split': [8, 10, 12],\n",
    "                'n_estimators': [100, 200, 300, 1000]}\n",
    "\n",
    "grid_search_rf = GridSearchCV(rf, param_grid = parameters_rf,cv = 5, n_jobs = -1, verbose = 2)\n",
    "grid_search_rf.fit(X_train1, y_train1)\n",
    "\n",
    "print(f'Best Score: {grid_search_rf.best_score_}')\n",
    "print(f'Best Param: {grid_search_rf.best_params_}')\n"
   ]
  },
  {
   "cell_type": "code",
   "execution_count": 73,
   "metadata": {},
   "outputs": [],
   "source": [
    "# Train multi-targets using the identified hyperprameters.\n",
    "\n",
    "rf_multi = MultiOutputRegressor(\n",
    "    RandomForestRegressor(bootstrap= True, max_depth= 110, max_features= 'log2' , min_samples_leaf= 4,\n",
    "                          min_samples_split= 8, n_estimators= 100, random_state=42)\n",
    ")\n",
    "\n",
    "rf_multi.fit(X_train, y_train)\n",
    "\n",
    "# Predict on test dataset\n",
    "y_pred_rf_multi = rf_multi.predict(X_test)\n",
    "\n",
    "# Convert array to DF\n",
    "y_pred_rf_multi=pd.DataFrame(y_pred_rf_multi)"
   ]
  },
  {
   "cell_type": "code",
   "execution_count": 74,
   "metadata": {},
   "outputs": [
    {
     "name": "stdout",
     "output_type": "stream",
     "text": [
      "Mean Absolute Error (MAE): 8.189\n",
      "Mean Squared Error (MSE):  122.101\n",
      "RMSE: 11.050\n"
     ]
    }
   ],
   "source": [
    "print(\"Mean Absolute Error (MAE): {:.3f}\".format(mae(y_test.iloc[:,0], y_pred_rf_multi.iloc[:,0])))\n",
    "print(\"Mean Squared Error (MSE):  {:.3f}\". format(mse(y_test.iloc[:,0], y_pred_rf_multi.iloc[:,0])))\n",
    "print(\"RMSE: {:.3f}\".format(mse(y_test.iloc[:,0], y_pred_rf_multi.iloc[:,0])**(1/2)))"
   ]
  },
  {
   "cell_type": "code",
   "execution_count": 75,
   "metadata": {},
   "outputs": [
    {
     "name": "stdout",
     "output_type": "stream",
     "text": [
      "Mean Absolute Error (MAE): 1.788\n",
      "Mean Squared Error (MSE):  5.408\n",
      "RMSE: 2.325\n"
     ]
    }
   ],
   "source": [
    "print(\"Mean Absolute Error (MAE): {:.3f}\".format(mae(y_test.iloc[:,1], y_pred_rf_multi.iloc[:,1])))\n",
    "print(\"Mean Squared Error (MSE):  {:.3f}\". format(mse(y_test.iloc[:,1], y_pred_rf_multi.iloc[:,1])))\n",
    "print(\"RMSE: {:.3f}\".format(mse(y_test.iloc[:,1], y_pred_rf_multi.iloc[:,1])**(1/2)))"
   ]
  },
  {
   "cell_type": "markdown",
   "metadata": {},
   "source": [
    "#  Gradient Boosting Optimize"
   ]
  },
  {
   "cell_type": "code",
   "execution_count": 76,
   "metadata": {},
   "outputs": [
    {
     "name": "stdout",
     "output_type": "stream",
     "text": [
      "Fitting 5 folds for each of 1296 candidates, totalling 6480 fits\n"
     ]
    },
    {
     "name": "stderr",
     "output_type": "stream",
     "text": [
      "[Parallel(n_jobs=-1)]: Using backend LokyBackend with 4 concurrent workers.\n",
      "[Parallel(n_jobs=-1)]: Done  56 tasks      | elapsed:    0.6s\n",
      "[Parallel(n_jobs=-1)]: Done 824 tasks      | elapsed:    7.6s\n",
      "[Parallel(n_jobs=-1)]: Done 2104 tasks      | elapsed:   18.8s\n",
      "[Parallel(n_jobs=-1)]: Done 3896 tasks      | elapsed:   34.6s\n",
      "[Parallel(n_jobs=-1)]: Done 6200 tasks      | elapsed:   55.6s\n"
     ]
    },
    {
     "name": "stdout",
     "output_type": "stream",
     "text": [
      "Best Score: 0.589303248183059\n",
      "Best Param: {'learning_rate': 0.1, 'max_depth': 3, 'max_features': 'log2', 'min_samples_leaf': 1, 'min_samples_split': 10, 'n_estimators': 50}\n"
     ]
    },
    {
     "name": "stderr",
     "output_type": "stream",
     "text": [
      "[Parallel(n_jobs=-1)]: Done 6480 out of 6480 | elapsed:   58.1s finished\n"
     ]
    }
   ],
   "source": [
    "# Prepare and train a model and identify best hyperparameters based on a single target feature\n",
    "\n",
    "gbr = GradientBoostingRegressor()\n",
    "\n",
    "## grid search to find the best model parameter\n",
    "\n",
    "parameters_gbr = {'max_depth': [3,5,6,7],\n",
    "              'max_features':['auto', 'sqrt', 'log2'],\n",
    "              'min_samples_split': [2, 3, 10],\n",
    "              'min_samples_leaf': [1, 3, 10],\n",
    "            'learning_rate':[0.05,0.1,0.2],\n",
    "            'n_estimators': [10,30,50,70]}\n",
    "\n",
    "grid_search_gbr = GridSearchCV(gbr, param_grid=parameters_gbr,cv=5,n_jobs = -1, verbose=3)\n",
    "grid_search_gbr.fit(X_train1, y_train1)\n",
    "\n",
    "print(f'Best Score: {grid_search_gbr.best_score_}')\n",
    "print(f'Best Param: {grid_search_gbr.best_params_}')"
   ]
  },
  {
   "cell_type": "code",
   "execution_count": 77,
   "metadata": {},
   "outputs": [],
   "source": [
    "# Train multi-targets using the identified hyperprameters.\n",
    "\n",
    "gbr_multi = MultiOutputRegressor(\n",
    "    GradientBoostingRegressor(learning_rate=0.2, max_depth=3,max_features='sqrt', min_samples_split=10,\n",
    "                             min_samples_leaf=1,n_estimators=10, random_state=42)\n",
    ")\n",
    "\n",
    "gbr_multi.fit(X_train, y_train)\n",
    "\n",
    "# Predict on test dataset\n",
    "y_pred_gbr_multi = gbr_multi.predict(X_test)\n",
    "\n",
    "# Convert array to DF\n",
    "y_pred_gbr_multi=pd.DataFrame(y_pred_gbr_multi)"
   ]
  },
  {
   "cell_type": "code",
   "execution_count": 78,
   "metadata": {},
   "outputs": [
    {
     "name": "stdout",
     "output_type": "stream",
     "text": [
      "Mean Absolute Error (MAE): 6.683\n",
      "Mean Squared Error (MSE):  83.369\n",
      "RMSE: 9.131\n"
     ]
    }
   ],
   "source": [
    "print(\"Mean Absolute Error (MAE): {:.3f}\".format(mae(y_test.iloc[:,0], y_pred_gbr_multi.iloc[:,0])))\n",
    "print(\"Mean Squared Error (MSE):  {:.3f}\". format(mse(y_test.iloc[:,0], y_pred_gbr_multi.iloc[:,0])))\n",
    "print(\"RMSE: {:.3f}\".format(mse(y_test.iloc[:,0], y_pred_gbr_multi.iloc[:,0])**(1/2)))"
   ]
  },
  {
   "cell_type": "code",
   "execution_count": 79,
   "metadata": {},
   "outputs": [
    {
     "name": "stdout",
     "output_type": "stream",
     "text": [
      "Mean Absolute Error (MAE): 1.363\n",
      "Mean Squared Error (MSE):  3.712\n",
      "RMSE: 1.927\n"
     ]
    }
   ],
   "source": [
    "print(\"Mean Absolute Error (MAE): {:.3f}\".format(mae(y_test.iloc[:,1], y_pred_gbr_multi.iloc[:,1])))\n",
    "print(\"Mean Squared Error (MSE):  {:.3f}\". format(mse(y_test.iloc[:,1], y_pred_gbr_multi.iloc[:,1])))\n",
    "print(\"RMSE: {:.3f}\".format(mse(y_test.iloc[:,1], y_pred_gbr_multi.iloc[:,1])**(1/2)))"
   ]
  },
  {
   "cell_type": "markdown",
   "metadata": {},
   "source": [
    "# Bagging Optimized"
   ]
  },
  {
   "cell_type": "code",
   "execution_count": 80,
   "metadata": {},
   "outputs": [
    {
     "name": "stdout",
     "output_type": "stream",
     "text": [
      "Fitting 5 folds for each of 120 candidates, totalling 600 fits\n"
     ]
    },
    {
     "name": "stderr",
     "output_type": "stream",
     "text": [
      "[Parallel(n_jobs=-1)]: Using backend LokyBackend with 4 concurrent workers.\n",
      "[Parallel(n_jobs=-1)]: Done  40 tasks      | elapsed:    2.0s\n",
      "[Parallel(n_jobs=-1)]: Done 232 tasks      | elapsed:   12.5s\n",
      "[Parallel(n_jobs=-1)]: Done 552 tasks      | elapsed:   34.9s\n"
     ]
    },
    {
     "name": "stdout",
     "output_type": "stream",
     "text": [
      "Best Score: 0.5005995609420992\n",
      "Best Param: {'bootstrap': False, 'bootstrap_features': False, 'max_features': 8, 'max_samples': 0.5, 'n_estimators': 50}\n"
     ]
    },
    {
     "name": "stderr",
     "output_type": "stream",
     "text": [
      "[Parallel(n_jobs=-1)]: Done 600 out of 600 | elapsed:   38.1s finished\n"
     ]
    }
   ],
   "source": [
    "# Prepare and train a model and identify best hyperparameters based on a single target feature\n",
    "\n",
    "br = BaggingRegressor()\n",
    "\n",
    "## grid search to find the best model paramete\n",
    "parameters_br = {'n_estimators': [50,100,200],\n",
    "              'max_features':[1,2,4,6,8],\n",
    "              'max_samples': [0.5,0.1],\n",
    "            'bootstrap': [True, False],\n",
    "         'bootstrap_features': [True, False]}\n",
    "\n",
    "\n",
    "grid_search_br = GridSearchCV(br, param_grid=parameters_br,cv=5,n_jobs = -1, verbose=3)\n",
    "grid_search_br.fit(X_train1, y_train1)\n",
    "\n",
    "print(f'Best Score: {grid_search_br.best_score_}')\n",
    "print(f'Best Param: {grid_search_br.best_params_}')\n"
   ]
  },
  {
   "cell_type": "code",
   "execution_count": 81,
   "metadata": {},
   "outputs": [],
   "source": [
    "# Train multi-targets using the identified hyperprameters.\n",
    "\n",
    "br_multi = MultiOutputRegressor(\n",
    "    BaggingRegressor(bootstrap = True, bootstrap_features = False, max_features =8,\n",
    "                     max_samples = 0.5, n_estimators = 50, random_state=42)\n",
    ")\n",
    "\n",
    "br_multi.fit(X_train, y_train)\n",
    "\n",
    "# Predict on test dataset\n",
    "y_pred_br_multi = br_multi.predict(X_test)\n",
    "\n",
    "# Convert array to DF\n",
    "y_pred_br_multi = pd.DataFrame(y_pred_br_multi)"
   ]
  },
  {
   "cell_type": "code",
   "execution_count": 82,
   "metadata": {},
   "outputs": [
    {
     "name": "stdout",
     "output_type": "stream",
     "text": [
      "Mean Absolute Error (MAE): 7.099\n",
      "Mean Squared Error (MSE):  93.311\n",
      "RMSE: 9.660\n"
     ]
    }
   ],
   "source": [
    "print(\"Mean Absolute Error (MAE): {:.3f}\".format(mae(y_test.iloc[:,0], y_pred_br_multi.iloc[:,0])))\n",
    "print(\"Mean Squared Error (MSE):  {:.3f}\". format(mse(y_test.iloc[:,0], y_pred_br_multi.iloc[:,0])))\n",
    "print(\"RMSE: {:.3f}\".format(mse(y_test.iloc[:,0], y_pred_br_multi.iloc[:,0])**(1/2)))"
   ]
  },
  {
   "cell_type": "code",
   "execution_count": 83,
   "metadata": {},
   "outputs": [
    {
     "name": "stdout",
     "output_type": "stream",
     "text": [
      "Mean Absolute Error (MAE): 1.743\n",
      "Mean Squared Error (MSE):  6.131\n",
      "RMSE: 2.476\n"
     ]
    }
   ],
   "source": [
    "print(\"Mean Absolute Error (MAE): {:.3f}\".format(mae(y_test.iloc[:,1], y_pred_br_multi.iloc[:,1])))\n",
    "print(\"Mean Squared Error (MSE):  {:.3f}\". format(mse(y_test.iloc[:,1], y_pred_br_multi.iloc[:,1])))\n",
    "print(\"RMSE: {:.3f}\".format(mse(y_test.iloc[:,1], y_pred_br_multi.iloc[:,1])**(1/2)))"
   ]
  },
  {
   "cell_type": "code",
   "execution_count": 84,
   "metadata": {},
   "outputs": [
    {
     "data": {
      "text/html": [
       "<div>\n",
       "<style scoped>\n",
       "    .dataframe tbody tr th:only-of-type {\n",
       "        vertical-align: middle;\n",
       "    }\n",
       "\n",
       "    .dataframe tbody tr th {\n",
       "        vertical-align: top;\n",
       "    }\n",
       "\n",
       "    .dataframe thead th {\n",
       "        text-align: right;\n",
       "    }\n",
       "</style>\n",
       "<table border=\"1\" class=\"dataframe\">\n",
       "  <thead>\n",
       "    <tr style=\"text-align: right;\">\n",
       "      <th></th>\n",
       "      <th>Measured</th>\n",
       "      <th>XGBoost</th>\n",
       "      <th>AdaBoost</th>\n",
       "      <th>Random Forest</th>\n",
       "      <th>Gradient Boosting</th>\n",
       "      <th>Bagging</th>\n",
       "    </tr>\n",
       "  </thead>\n",
       "  <tbody>\n",
       "    <tr>\n",
       "      <th>0</th>\n",
       "      <td>35.9</td>\n",
       "      <td>58.426857</td>\n",
       "      <td>64.008333</td>\n",
       "      <td>56.319594</td>\n",
       "      <td>59.096336</td>\n",
       "      <td>57.220</td>\n",
       "    </tr>\n",
       "    <tr>\n",
       "      <th>1</th>\n",
       "      <td>41.5</td>\n",
       "      <td>41.047329</td>\n",
       "      <td>42.800000</td>\n",
       "      <td>46.586820</td>\n",
       "      <td>45.260121</td>\n",
       "      <td>43.156</td>\n",
       "    </tr>\n",
       "  </tbody>\n",
       "</table>\n",
       "</div>"
      ],
      "text/plain": [
       "   Measured    XGBoost   AdaBoost  Random Forest  Gradient Boosting  Bagging\n",
       "0      35.9  58.426857  64.008333      56.319594          59.096336   57.220\n",
       "1      41.5  41.047329  42.800000      46.586820          45.260121   43.156"
      ]
     },
     "execution_count": 84,
     "metadata": {},
     "output_type": "execute_result"
    }
   ],
   "source": [
    "# rest index of y_test\n",
    "y_test.reset_index(drop=True, inplace=True)\n",
    "\n",
    "# Measured and predicted comprehensive strength values \n",
    "Pred_CS_S2 = pd.concat([y_test.iloc[:,0], y_pred_xgb_multi.iloc[:,0],  y_pred_adbr_multi.iloc[:,0],\n",
    "                        y_pred_rf_multi.iloc[:,0], y_pred_gbr_multi.iloc[:,0], y_pred_br_multi.iloc[:,0]], axis = 1)\n",
    "\n",
    "Pred_CS_S2.columns = ['Measured', 'XGBoost','AdaBoost','Random Forest','Gradient Boosting','Bagging']\n",
    "\n",
    "## Measured and predicted Dnssm values \n",
    "Pred_Dnssm_S2 = pd.concat([y_test.iloc[:,1], y_pred_xgb_multi.iloc[:,1],  y_pred_adbr_multi.iloc[:,1],\n",
    "                        y_pred_rf_multi.iloc[:,1], y_pred_gbr_multi.iloc[:,1], y_pred_br_multi.iloc[:,1]], axis = 1)\n",
    "\n",
    "Pred_Dnssm_S2.columns = ['Measured', 'XGBoost','AdaBoost','Random Forest','Gradient Boosting','Bagging']\n",
    "Pred_CS_S2.head(2)"
   ]
  },
  {
   "cell_type": "markdown",
   "metadata": {},
   "source": [
    "Write the prediction in an Excel spreadsheet to visualize it with another tool."
   ]
  },
  {
   "cell_type": "code",
   "execution_count": 85,
   "metadata": {},
   "outputs": [],
   "source": [
    "# Write the prediction in an Excel sheet.\n",
    "Pred_CS_S2.to_excel(\"Pred_CS_S2.xlsx\",sheet_name='Pred_CS_S2')  \n",
    "Pred_Dnssm_S2.to_excel(\"Pred_Dnssm_S2.xlsx\",sheet_name='Pred_Dnssm_S2')  "
   ]
  },
  {
   "cell_type": "markdown",
   "metadata": {},
   "source": [
    "# User Interface Development"
   ]
  },
  {
   "cell_type": "code",
   "execution_count": 86,
   "metadata": {},
   "outputs": [
    {
     "name": "stdout",
     "output_type": "stream",
     "text": [
      "Requirement already satisfied: gradio in c:\\users\\woubi\\appdata\\roaming\\python\\python37\\site-packages (3.3.1)\n",
      "Requirement already satisfied: numpy in c:\\users\\woubi\\appdata\\roaming\\python\\python37\\site-packages (from gradio) (1.16.6)\n",
      "Requirement already satisfied: orjson in c:\\programdata\\anaconda3\\lib\\site-packages (from gradio) (3.8.0)\n",
      "Requirement already satisfied: uvicorn in c:\\programdata\\anaconda3\\lib\\site-packages (from gradio) (0.18.3)\n",
      "Requirement already satisfied: jinja2 in c:\\programdata\\anaconda3\\lib\\site-packages (from gradio) (2.11.1)\n",
      "Requirement already satisfied: fastapi in c:\\programdata\\anaconda3\\lib\\site-packages (from gradio) (0.85.0)\n",
      "Requirement already satisfied: pillow in c:\\programdata\\anaconda3\\lib\\site-packages (from gradio) (7.0.0)\n",
      "Requirement already satisfied: pycryptodome in c:\\users\\woubi\\appdata\\roaming\\python\\python37\\site-packages (from gradio) (3.15.0)\n",
      "Requirement already satisfied: websockets in c:\\programdata\\anaconda3\\lib\\site-packages (from gradio) (10.3)\n",
      "Requirement already satisfied: requests in c:\\users\\woubi\\appdata\\roaming\\python\\python37\\site-packages (from gradio) (2.18.4)\n",
      "Requirement already satisfied: aiohttp in c:\\programdata\\anaconda3\\lib\\site-packages (from gradio) (3.8.1)\n",
      "Requirement already satisfied: httpx in c:\\programdata\\anaconda3\\lib\\site-packages (from gradio) (0.23.0)\n",
      "Requirement already satisfied: pyyaml in c:\\programdata\\anaconda3\\lib\\site-packages (from gradio) (5.3)\n",
      "Requirement already satisfied: python-multipart in c:\\programdata\\anaconda3\\lib\\site-packages (from gradio) (0.0.5)\n",
      "Requirement already satisfied: ffmpy in c:\\programdata\\anaconda3\\lib\\site-packages (from gradio) (0.3.0)\n",
      "Requirement already satisfied: matplotlib in c:\\programdata\\anaconda3\\lib\\site-packages (from gradio) (3.1.3)\n",
      "Requirement already satisfied: analytics-python in c:\\programdata\\anaconda3\\lib\\site-packages (from gradio) (1.4.0)\n",
      "Requirement already satisfied: pydantic in c:\\programdata\\anaconda3\\lib\\site-packages (from gradio) (1.10.2)\n",
      "Requirement already satisfied: h11<0.13,>=0.11 in c:\\programdata\\anaconda3\\lib\\site-packages (from gradio) (0.12.0)\n",
      "Requirement already satisfied: paramiko in c:\\programdata\\anaconda3\\lib\\site-packages (from gradio) (2.7.1)\n",
      "Requirement already satisfied: pydub in c:\\programdata\\anaconda3\\lib\\site-packages (from gradio) (0.25.1)\n",
      "Requirement already satisfied: pandas in c:\\programdata\\anaconda3\\lib\\site-packages (from gradio) (1.0.1)\n",
      "Requirement already satisfied: fsspec in c:\\programdata\\anaconda3\\lib\\site-packages (from gradio) (0.6.2)\n",
      "Requirement already satisfied: markdown-it-py[linkify,plugins] in c:\\programdata\\anaconda3\\lib\\site-packages (from gradio) (2.1.0)\n",
      "Requirement already satisfied: click>=7.0 in c:\\programdata\\anaconda3\\lib\\site-packages (from uvicorn->gradio) (7.0)\n",
      "Requirement already satisfied: typing-extensions; python_version < \"3.8\" in c:\\programdata\\anaconda3\\lib\\site-packages (from uvicorn->gradio) (4.3.0)\n",
      "Requirement already satisfied: MarkupSafe>=0.23 in c:\\programdata\\anaconda3\\lib\\site-packages (from jinja2->gradio) (1.1.1)\n",
      "Requirement already satisfied: starlette==0.20.4 in c:\\programdata\\anaconda3\\lib\\site-packages (from fastapi->gradio) (0.20.4)\n",
      "Requirement already satisfied: chardet<3.1.0,>=3.0.2 in c:\\programdata\\anaconda3\\lib\\site-packages (from requests->gradio) (3.0.4)\n",
      "Requirement already satisfied: certifi>=2017.4.17 in c:\\programdata\\anaconda3\\lib\\site-packages (from requests->gradio) (2019.11.28)\n",
      "Requirement already satisfied: idna<2.7,>=2.5 in c:\\users\\woubi\\appdata\\roaming\\python\\python37\\site-packages (from requests->gradio) (2.6)\n",
      "Requirement already satisfied: urllib3<1.23,>=1.21.1 in c:\\users\\woubi\\appdata\\roaming\\python\\python37\\site-packages (from requests->gradio) (1.22)\n",
      "Requirement already satisfied: frozenlist>=1.1.1 in c:\\programdata\\anaconda3\\lib\\site-packages (from aiohttp->gradio) (1.3.1)\n",
      "Requirement already satisfied: multidict<7.0,>=4.5 in c:\\programdata\\anaconda3\\lib\\site-packages (from aiohttp->gradio) (6.0.2)\n",
      "Requirement already satisfied: attrs>=17.3.0 in c:\\programdata\\anaconda3\\lib\\site-packages (from aiohttp->gradio) (19.3.0)\n",
      "Requirement already satisfied: async-timeout<5.0,>=4.0.0a3 in c:\\programdata\\anaconda3\\lib\\site-packages (from aiohttp->gradio) (4.0.2)\n",
      "Requirement already satisfied: yarl<2.0,>=1.0 in c:\\programdata\\anaconda3\\lib\\site-packages (from aiohttp->gradio) (1.8.1)\n",
      "Requirement already satisfied: charset-normalizer<3.0,>=2.0 in c:\\programdata\\anaconda3\\lib\\site-packages (from aiohttp->gradio) (2.0.12)\n",
      "Requirement already satisfied: asynctest==0.13.0; python_version < \"3.8\" in c:\\programdata\\anaconda3\\lib\\site-packages (from aiohttp->gradio) (0.13.0)\n",
      "Requirement already satisfied: aiosignal>=1.1.2 in c:\\programdata\\anaconda3\\lib\\site-packages (from aiohttp->gradio) (1.2.0)\n",
      "Requirement already satisfied: sniffio in c:\\programdata\\anaconda3\\lib\\site-packages (from httpx->gradio) (1.2.0)\n",
      "Requirement already satisfied: httpcore<0.16.0,>=0.15.0 in c:\\programdata\\anaconda3\\lib\\site-packages (from httpx->gradio) (0.15.0)\n",
      "Requirement already satisfied: rfc3986[idna2008]<2,>=1.3 in c:\\programdata\\anaconda3\\lib\\site-packages (from httpx->gradio) (1.5.0)\n",
      "Requirement already satisfied: six>=1.4.0 in c:\\programdata\\anaconda3\\lib\\site-packages (from python-multipart->gradio) (1.14.0)\n",
      "Requirement already satisfied: kiwisolver>=1.0.1 in c:\\programdata\\anaconda3\\lib\\site-packages (from matplotlib->gradio) (1.1.0)\n",
      "Requirement already satisfied: cycler>=0.10 in c:\\programdata\\anaconda3\\lib\\site-packages (from matplotlib->gradio) (0.10.0)\n",
      "Requirement already satisfied: python-dateutil>=2.1 in c:\\programdata\\anaconda3\\lib\\site-packages (from matplotlib->gradio) (2.8.1)\n",
      "Requirement already satisfied: pyparsing!=2.0.4,!=2.1.2,!=2.1.6,>=2.0.1 in c:\\programdata\\anaconda3\\lib\\site-packages (from matplotlib->gradio) (2.4.6)\n",
      "Requirement already satisfied: monotonic>=1.5 in c:\\programdata\\anaconda3\\lib\\site-packages (from analytics-python->gradio) (1.6)\n",
      "Requirement already satisfied: backoff==1.10.0 in c:\\programdata\\anaconda3\\lib\\site-packages (from analytics-python->gradio) (1.10.0)\n",
      "Requirement already satisfied: pynacl>=1.0.1 in c:\\programdata\\anaconda3\\lib\\site-packages (from paramiko->gradio) (1.3.0)\n",
      "Requirement already satisfied: cryptography>=2.5 in c:\\programdata\\anaconda3\\lib\\site-packages (from paramiko->gradio) (2.8)\n",
      "Requirement already satisfied: bcrypt>=3.1.3 in c:\\programdata\\anaconda3\\lib\\site-packages (from paramiko->gradio) (3.1.7)\n",
      "Requirement already satisfied: pytz>=2017.2 in c:\\programdata\\anaconda3\\lib\\site-packages (from pandas->gradio) (2019.3)\n",
      "Requirement already satisfied: mdurl~=0.1 in c:\\programdata\\anaconda3\\lib\\site-packages (from markdown-it-py[linkify,plugins]->gradio) (0.1.2)\n",
      "Requirement already satisfied: linkify-it-py~=1.0; extra == \"linkify\" in c:\\programdata\\anaconda3\\lib\\site-packages (from markdown-it-py[linkify,plugins]->gradio) (1.0.3)\n",
      "Requirement already satisfied: mdit-py-plugins; extra == \"plugins\" in c:\\programdata\\anaconda3\\lib\\site-packages (from markdown-it-py[linkify,plugins]->gradio) (0.3.0)\n",
      "Requirement already satisfied: anyio<5,>=3.4.0 in c:\\programdata\\anaconda3\\lib\\site-packages (from starlette==0.20.4->fastapi->gradio) (3.6.1)\n",
      "Requirement already satisfied: setuptools in c:\\programdata\\anaconda3\\lib\\site-packages (from kiwisolver>=1.0.1->matplotlib->gradio) (45.2.0.post20200210)\n",
      "Requirement already satisfied: cffi>=1.4.1 in c:\\programdata\\anaconda3\\lib\\site-packages (from pynacl>=1.0.1->paramiko->gradio) (1.14.0)\n",
      "Requirement already satisfied: uc-micro-py in c:\\programdata\\anaconda3\\lib\\site-packages (from linkify-it-py~=1.0; extra == \"linkify\"->markdown-it-py[linkify,plugins]->gradio) (1.0.1)\n",
      "Requirement already satisfied: pycparser in c:\\programdata\\anaconda3\\lib\\site-packages (from cffi>=1.4.1->pynacl>=1.0.1->paramiko->gradio) (2.19)\n",
      "Note: you may need to restart the kernel to use updated packages.\n"
     ]
    }
   ],
   "source": [
    "pip install gradio"
   ]
  }
 ],
 "metadata": {
  "kernelspec": {
   "display_name": "Python 3",
   "language": "python",
   "name": "python3"
  },
  "language_info": {
   "codemirror_mode": {
    "name": "ipython",
    "version": 3
   },
   "file_extension": ".py",
   "mimetype": "text/x-python",
   "name": "python",
   "nbconvert_exporter": "python",
   "pygments_lexer": "ipython3",
   "version": "3.7.6"
  }
 },
 "nbformat": 4,
 "nbformat_minor": 4
}
